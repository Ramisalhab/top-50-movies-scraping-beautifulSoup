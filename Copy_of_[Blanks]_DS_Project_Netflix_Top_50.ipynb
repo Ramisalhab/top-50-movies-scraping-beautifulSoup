{
  "nbformat": 4,
  "nbformat_minor": 0,
  "metadata": {
    "colab": {
      "provenance": []
    },
    "kernelspec": {
      "name": "python3",
      "display_name": "Python 3"
    },
    "language_info": {
      "name": "python"
    }
  },
  "cells": [
    {
      "cell_type": "markdown",
      "source": [
        "##Project: Dive Deeper into Web Scraping\n",
        "\n",
        "© 2024, Zaka AI, Inc. All Rights Reserved.\n",
        "\n",
        "---\n",
        "\n",
        "###**Case Study:** Netflix Top 50\n",
        "**Objective:** The goal of this challenge is to let you go over a project that allows you to dive deeper into webscraping and learn some new related concepts.\n",
        "\n",
        "* You will scrape the website https://www.digitaltrends.com/movies/best-movies-on-netflix/ using Beautifulsoup, and get the required information about the presented movies. Once you clean them, you would save them in a SQL database, and run some queries over them.\n"
      ],
      "metadata": {
        "id": "EbSPk02xoRmx"
      }
    },
    {
      "cell_type": "markdown",
      "source": [
        "##Scraping the best movies on Netflix from the digitaltrends website"
      ],
      "metadata": {
        "id": "y2X8ZqHBqfiB"
      }
    },
    {
      "cell_type": "markdown",
      "source": [
        "You will get the necessary information about the movies on the website an save them in a SQL database. Before doing that, you need to familiarize yourself with the sqlite3 library"
      ],
      "metadata": {
        "id": "GZLKTMt0IUo4"
      }
    },
    {
      "cell_type": "markdown",
      "source": [
        "####1. Familiarize yourself with sqlite3."
      ],
      "metadata": {
        "id": "nvTwHln_q400"
      }
    },
    {
      "cell_type": "markdown",
      "source": [
        "The goal of this section is just for you to practice the sqlite3 python's library.\n",
        "Start by importing the library and creating a new database."
      ],
      "metadata": {
        "id": "C59E2dbbq_nd"
      }
    },
    {
      "cell_type": "code",
      "execution_count": null,
      "metadata": {
        "id": "Q0587rNTP-Gt"
      },
      "outputs": [],
      "source": [
        "#Test your Zaka\n",
        "import sqlite3\n",
        "conn = sqlite3.connect('my_database.db')"
      ]
    },
    {
      "cell_type": "markdown",
      "source": [
        "Create a table in this database. This table should contain a few columns. You can add whatever columns you want. The goal is just to practice."
      ],
      "metadata": {
        "id": "d4RcIbUDrPWs"
      }
    },
    {
      "cell_type": "code",
      "source": [
        "#Test your Zaka\n",
        "cursor = conn.cursor()\n",
        "\n",
        "# Create a new table\n",
        "cursor.execute('''\n",
        "CREATE TABLE IF NOT EXISTS employees (\n",
        "    employee_id INTEGER PRIMARY KEY AUTOINCREMENT,\n",
        "    first_name TEXT NOT NULL,\n",
        "    last_name TEXT NOT NULL,\n",
        "    department TEXT,\n",
        "    salary REAL,\n",
        "    hire_date TEXT\n",
        ")\n",
        "''')\n",
        "\n",
        "# Commit changes and close the connection\n",
        "conn.commit()\n",
        "conn.close()\n",
        "\n",
        "print(\"Table 'employees' created successfully!\")\n"
      ],
      "metadata": {
        "id": "ZEe3__BRQUU9",
        "colab": {
          "base_uri": "https://localhost:8080/"
        },
        "outputId": "8d655813-17db-42c6-fc4f-02f35e56c103"
      },
      "execution_count": null,
      "outputs": [
        {
          "output_type": "stream",
          "name": "stdout",
          "text": [
            "Table 'employees' created successfully!\n"
          ]
        }
      ]
    },
    {
      "cell_type": "markdown",
      "source": [
        "Add data to the table you created"
      ],
      "metadata": {
        "id": "niJBGNprRVbk"
      }
    },
    {
      "cell_type": "code",
      "source": [
        "#Test your Zaka\n",
        "# Connect to the database\n",
        "conn = sqlite3.connect('my_database.db')\n",
        "cursor = conn.cursor()\n",
        "\n",
        "# Insert data into the table\n",
        "cursor.execute('''\n",
        "INSERT INTO employees (first_name, last_name, department, salary, hire_date)\n",
        "VALUES ('John', 'Doe', 'Engineering', 75000.00, '2022-10-15')\n",
        "''')\n",
        "\n",
        "cursor.execute('''\n",
        "INSERT INTO employees (first_name, last_name, department, salary, hire_date)\n",
        "VALUES ('Jane', 'Smith', 'Marketing', 65000.00, '2021-06-20')\n",
        "''')\n",
        "\n",
        "cursor.execute('''\n",
        "INSERT INTO employees (first_name, last_name, department, salary, hire_date)\n",
        "VALUES ('Alice', 'Brown', 'HR', 58000.00, '2023-03-01')\n",
        "''')\n",
        "\n",
        "# Commit changes and close the connection\n",
        "conn.commit()\n",
        "conn.close()\n",
        "\n",
        "print(\"Data added to the 'employees' table successfully!\")"
      ],
      "metadata": {
        "id": "mhqf9DueRU1j",
        "colab": {
          "base_uri": "https://localhost:8080/"
        },
        "outputId": "ffe2510a-315e-4c8a-a3a3-35c081b46834"
      },
      "execution_count": null,
      "outputs": [
        {
          "output_type": "stream",
          "name": "stdout",
          "text": [
            "Data added to the 'employees' table successfully!\n"
          ]
        }
      ]
    },
    {
      "cell_type": "markdown",
      "source": [
        "Perform a few basic queries (2-3) to familiarize yourself with the usage (The queries can be anything like selecting all rows in the table or selecting a specific column according to a condition, etc.)"
      ],
      "metadata": {
        "id": "cqvl5wvwR023"
      }
    },
    {
      "cell_type": "code",
      "source": [
        "#Test your Zaka\n",
        "conn = sqlite3.connect('my_database.db')\n",
        "cursor = conn.cursor()\n",
        "cursor.execute('SELECT first_name, last_name FROM employees WHERE salary > 60000')\n",
        "rows = cursor.fetchall()\n",
        "print(\"Employees with salary greater than 60000:\")\n",
        "for row in rows:\n",
        "  print(row)\n",
        "conn.close()"
      ],
      "metadata": {
        "id": "rpFuLiESRv1S",
        "colab": {
          "base_uri": "https://localhost:8080/"
        },
        "outputId": "2d6753ce-ddbf-40ca-abe0-d4c67418bd37"
      },
      "execution_count": null,
      "outputs": [
        {
          "output_type": "stream",
          "name": "stdout",
          "text": [
            "Employees with salary greater than 60000:\n",
            "('John', 'Doe')\n",
            "('Jane', 'Smith')\n"
          ]
        }
      ]
    },
    {
      "cell_type": "code",
      "source": [
        "#Test your Zaka\n",
        "conn = sqlite3.connect('my_database.db')\n",
        "cursor = conn.cursor()\n",
        "cursor.execute(\"SELECT first_name , last_name FROM employees WHERE salary > 50000 AND department = 'HR'\")\n",
        "rows = cursor.fetchall()\n",
        "print(\"Employess with salary greater than 50000 and work as HR:\")\n",
        "for row in rows:\n",
        "  print(row)\n",
        "conn.close()"
      ],
      "metadata": {
        "id": "mB4cf63LSLbm",
        "colab": {
          "base_uri": "https://localhost:8080/"
        },
        "outputId": "d743cdfd-211c-4c39-bc5e-56f1722a78ed"
      },
      "execution_count": null,
      "outputs": [
        {
          "output_type": "stream",
          "name": "stdout",
          "text": [
            "Employess with salary greater than 50000 and work as HR:\n",
            "('Alice', 'Brown')\n"
          ]
        }
      ]
    },
    {
      "cell_type": "code",
      "source": [
        "#Test your Zaka\n",
        "conn = sqlite3.connect('my_database.db')\n",
        "cursor = conn.cursor()\n",
        "cursor.execute('SELECT first_name, last_name FROM employees WHERE salary > 60000')\n",
        "rows = cursor.fetchall()\n",
        "print(\"Employees with salary greater than 60000:\")\n",
        "for row in rows:\n",
        "  print(row)\n",
        "conn.close()"
      ],
      "metadata": {
        "id": "697YuqvZS21W",
        "colab": {
          "base_uri": "https://localhost:8080/"
        },
        "outputId": "98e8498a-c7d5-41d9-8d10-957528bffc8d"
      },
      "execution_count": null,
      "outputs": [
        {
          "output_type": "stream",
          "name": "stdout",
          "text": [
            "Employees with salary greater than 60000:\n",
            "('John', 'Doe')\n",
            "('Jane', 'Smith')\n"
          ]
        }
      ]
    },
    {
      "cell_type": "markdown",
      "source": [
        "###2. Scraping the website via BeautifulSoup."
      ],
      "metadata": {
        "id": "3YLWShuibUXL"
      }
    },
    {
      "cell_type": "markdown",
      "source": [
        "The website to scrape is the following https://www.digitaltrends.com/movies/best-movies-on-netflix/. Start by sending a request to the website and make sure you obtain the right response."
      ],
      "metadata": {
        "id": "Mq5Mh2TWsYH3"
      }
    },
    {
      "cell_type": "code",
      "source": [
        "import requests\n",
        "from bs4 import BeautifulSoup\n",
        "import re\n",
        "\n",
        "# URL of the page to scrape\n",
        "url = \"https://www.digitaltrends.com/movies/best-movies-on-netflix/\"  # Replace with your target URL\n",
        "\n",
        "# Send a GET request to fetch the page content\n",
        "response = requests.get(url)\n",
        "\n"
      ],
      "metadata": {
        "id": "O8SXpKJjU7wB"
      },
      "execution_count": null,
      "outputs": []
    },
    {
      "cell_type": "code",
      "source": [
        "import sqlite3"
      ],
      "metadata": {
        "id": "iGveMmrF7GD_"
      },
      "execution_count": null,
      "outputs": []
    },
    {
      "cell_type": "markdown",
      "source": [
        "For each movie, extract the following:\n",
        "* Title\n",
        "* Year\n",
        "* Poster\n",
        "* Duration\n",
        "* IMDB Rating\n",
        "* Genre\n",
        "* Stars (Actors)\n",
        "* Director TEXT"
      ],
      "metadata": {
        "id": "XJ9BEyX5dmwZ"
      }
    },
    {
      "cell_type": "markdown",
      "source": [
        "**Tip:** You can start by extracting each element alone to make sure everything is function as expected and then wrap the whole thing within a function when you need to save them into a database"
      ],
      "metadata": {
        "id": "ERQSkh7VtX22"
      }
    },
    {
      "cell_type": "code",
      "source": [
        "#Test your Zaka\n",
        "soup = BeautifulSoup(response.content, 'html.parser')\n",
        "\n",
        "# Prettify the soup for better readability\n",
        "soup.prettify()\n",
        "\n",
        "# Extract Titles and Years\n",
        "all_titles = soup.find_all(\"h3\", class_=\"b-media__title\")\n",
        "movie_titles = []\n",
        "release_years = []\n",
        "\n",
        "for title_text in all_titles:\n",
        "    title = title_text.text.strip()\n",
        "    year_match = re.search(r'\\(\\d{4}\\)', title)\n",
        "    if year_match:\n",
        "        year = year_match.group()\n",
        "        title = title.replace(year, '').strip()\n",
        "        year = year.replace('(', '').replace(')', '')\n",
        "\n",
        "        movie_titles.append(title)\n",
        "        release_years.append(year)\n",
        "\n",
        "# Extract Poster URLs\n",
        "all_posters = soup.find_all(\"div\", class_=\"b-media__poster\")\n",
        "poster_urls = []\n",
        "\n",
        "for poster_div in all_posters:\n",
        "    img = poster_div.find('img')\n",
        "    if img:\n",
        "        img_url = img.get(\"data-dt-lazy-src\")\n",
        "        poster_urls.append(img_url)\n",
        "\n",
        "# Extract Durations\n",
        "all_durations = soup.find_all(\"div\", class_=\"b-media__basic\")\n",
        "durations = []\n",
        "\n",
        "for duration in all_durations:\n",
        "    duration_text = duration.find_all(string=True)\n",
        "    for text in duration_text:\n",
        "        if \"m\" in text:  # Check if the duration contains 'm' (minutes)\n",
        "            duration_clean = re.sub(r\"[^0-9]\", \"\", text.strip())  # Remove everything except digits\n",
        "            durations.append(duration_clean)  # Append the cleaned duration\n",
        "            break\n",
        "\n",
        "\n",
        "# Extract IMDB Ratings\n",
        "all_ratings = soup.find_all('div', class_='b-media__score')\n",
        "movie_ratings = []\n",
        "\n",
        "for rating_div in all_ratings:\n",
        "    rating_text = rating_div.text.strip()\n",
        "    if \"/10\" in rating_text:\n",
        "        movie_ratings.append(rating_text)\n",
        "\n",
        "# Extract Genres\n",
        "all_genres = soup.find_all(\"div\", class_=\"b-media__key\")\n",
        "movie_genres = []\n",
        "\n",
        "for genre_div in all_genres:\n",
        "    if genre_div.text.strip() == \"Genre\":\n",
        "        value_div = genre_div.find_next_sibling(\"div\", class_=\"b-media__value\")\n",
        "        if value_div:\n",
        "            movie_genres.append(value_div.text.strip())\n",
        "\n",
        "# Extract Actors (Stars)\n",
        "all_actors = soup.find_all(\"div\", class_=\"b-media__key\")\n",
        "movie_actors = []\n",
        "\n",
        "for actor_div in all_actors:\n",
        "    if actor_div.text.strip() == \"Stars\":\n",
        "        value_div = actor_div.find_next_sibling(\"div\", class_=\"b-media__value\")\n",
        "        if value_div:\n",
        "            movie_actors.append(value_div.text.strip())\n",
        "\n",
        "# Extract Directors\n",
        "all_directors = soup.find_all(\"div\", class_=\"b-media__key\")\n",
        "movie_directors = []\n",
        "\n",
        "for director_div in all_directors:\n",
        "    if director_div.text.strip() == \"Directed by\":\n",
        "        value_div = director_div.find_next_sibling(\"div\", class_=\"b-media__value\")\n",
        "        if value_div:\n",
        "            movie_directors.append(value_div.text.strip())\n",
        "\n",
        "# Combine all data into a list of dictionaries\n",
        "movies_data = []\n",
        "\n",
        "for i in range(len(movie_titles)):\n",
        "    movie_data = {\n",
        "        'Title': movie_titles[i],\n",
        "        'Year': release_years[i],\n",
        "        'Poster': poster_urls[i] if i < len(poster_urls) else None,\n",
        "        'Duration': durations[i] if i < len(durations) else None, # Use 'durations' instead of 'movie_durations'\n",
        "        'IMDB Rating': movie_ratings[i] if i < len(movie_ratings) else None,\n",
        "        'Genre': movie_genres[i] if i < len(movie_genres) else None,\n",
        "        'Stars': movie_actors[i] if i < len(movie_actors) else None,\n",
        "        'Director': movie_directors[i] if i < len(movie_directors) else None\n",
        "    }\n",
        "    movies_data.append(movie_data)\n",
        "\n",
        "# Output the extracted movie data (for testing purposes)\n",
        "for movie in movies_data:\n",
        "    print(movie)\n"
      ],
      "metadata": {
        "id": "853iQGmIJ3MY",
        "colab": {
          "base_uri": "https://localhost:8080/"
        },
        "outputId": "bf6257a6-eff2-4434-c442-aa7012d1770b"
      },
      "execution_count": null,
      "outputs": [
        {
          "output_type": "stream",
          "name": "stdout",
          "text": [
            "{'Title': 'Scream VI', 'Year': '2023', 'Poster': 'https://www.digitaltrends.com/wp-content/uploads/2025/01/wDWwtvkRRlgTiUr6TyLSMX8FCuZ.jpg?p=1#038;p=1.jpg', 'Duration': '123', 'IMDB Rating': '6.4/10', 'Genre': 'Horror, Crime, Thriller', 'Stars': 'Melissa Barrera, Jenna Ortega, Jasmin Savoy Brown', 'Director': 'Tyler Gillett, Matt Bettinelli-Olpin'}\n",
            "{'Title': 'Saturday Night', 'Year': '2024', 'Poster': 'https://www.digitaltrends.com/wp-content/uploads/2025/01/oCf5O6uxooTvRwKVnLHwGqZUifq.jpg?p=1#038;p=1.jpg', 'Duration': '109', 'IMDB Rating': '7.0/10', 'Genre': 'Comedy, Drama', 'Stars': 'Gabriel LaBelle, Rachel Sennott, Cory Michael Smith', 'Director': 'Jason Reitman'}\n",
            "{'Title': 'Back in Action', 'Year': '2025', 'Poster': 'https://www.digitaltrends.com/wp-content/uploads/2025/01/zDdwuxEr6GTtl0o7PbVvVo4ht5i.jpg?p=1#038;p=1.jpg', 'Duration': '114', 'IMDB Rating': '7.3/10', 'Genre': 'Action, Comedy', 'Stars': 'Cameron Diaz, Jamie Foxx, McKenna Roberts', 'Director': 'Seth Gordon'}\n",
            "{'Title': 'Hereditary', 'Year': '2018', 'Poster': 'https://www.digitaltrends.com/wp-content/uploads/2023/04/p9fmuz2Oj3HtEJEqbIwkFGUhVXD.jpg?p=1#038;p=1.jpg', 'Duration': '128', 'IMDB Rating': '7.5/10', 'Genre': 'Horror, Mystery, Thriller', 'Stars': 'Toni Collette, Alex Wolff, Gabriel Byrne', 'Director': 'Ari Aster'}\n",
            "{'Title': 'Furiosa: A Mad Max Saga', 'Year': '2024', 'Poster': 'https://www.digitaltrends.com/wp-content/uploads/2024/08/iADOJ8Zymht2JPMoy3R7xceZprc.jpg?p=1#038;p=1.jpg', 'Duration': '149', 'IMDB Rating': '6.9/10', 'Genre': 'Action, Science Fiction, Adventure', 'Stars': 'Anya Taylor-Joy, Chris Hemsworth, Tom Burke', 'Director': 'George Miller'}\n",
            "{'Title': 'In the Heart of the Sea', 'Year': '2015', 'Poster': 'https://www.digitaltrends.com/wp-content/uploads/2025/01/weVvNPfk6FM9vBg3BXtRtNAmiYM.jpg?p=1#038;p=1.jpg', 'Duration': '122', 'IMDB Rating': '8.7/10', 'Genre': 'Thriller, Drama, Adventure, Action, History', 'Stars': 'Chris Hemsworth, Benjamin Walker, Cillian Murphy', 'Director': 'Ron Howard'}\n",
            "{'Title': 'Interstellar', 'Year': '2014', 'Poster': 'https://www.digitaltrends.com/wp-content/uploads/2022/10/gEU2QniE6E77NI6lCU6MxlNBvIx.jpg?p=1#038;p=1.jpg', 'Duration': '169', 'IMDB Rating': '7.9/10', 'Genre': 'Adventure, Drama, Science Fiction', 'Stars': 'Matthew McConaughey, Anne Hathaway, Michael Caine', 'Director': 'Christopher Nolan'}\n",
            "{'Title': 'Wallace & Gromit: Vengeance Most Fowl', 'Year': '2024', 'Poster': 'https://www.digitaltrends.com/wp-content/uploads/2025/01/6BxK38ehxuX2dJmZIMpJcVNbYks.jpg?p=1#038;p=1.jpg', 'Duration': '79', 'IMDB Rating': '6.1/10', 'Genre': 'Animation, Comedy, Family', 'Stars': 'Ben Whitehead, Reece Shearsmith, Peter Kay', 'Director': 'Nick Park, Merlin Crossingham'}\n",
            "{'Title': 'Godzilla x Kong: The New Empire', 'Year': '2024', 'Poster': 'https://www.digitaltrends.com/wp-content/uploads/2024/07/z1p34vh7dEOnLDmyCrlUVLuoDzd.jpg?p=1#038;p=1.jpg', 'Duration': '115', 'IMDB Rating': '6.8/10', 'Genre': 'Action, Adventure, Science Fiction', 'Stars': 'Rebecca Hall, Brian Tyree Henry, Dan Stevens', 'Director': 'Adam Wingard'}\n",
            "{'Title': 'Barbie', 'Year': '2023', 'Poster': 'https://www.digitaltrends.com/wp-content/uploads/2023/12/iuFNMS8U5cb6xfzi51Dbkovj7vM.jpg?p=1#038;p=1.jpg', 'Duration': '114', 'IMDB Rating': '5.6/10', 'Genre': 'Comedy, Adventure', 'Stars': 'Margot Robbie, Ryan Gosling, America Ferrera', 'Director': 'Greta Gerwig'}\n",
            "{'Title': 'The Six Triple Eight', 'Year': '2024', 'Poster': 'https://www.digitaltrends.com/wp-content/uploads/2024/12/2N8VL4jePIGpAupSqVcGiPekIf4.jpg?p=1#038;p=1.jpg', 'Duration': '127', 'IMDB Rating': '6.5/10', 'Genre': 'Drama, War', 'Stars': 'Kerry Washington, Sam Waterston, Susan Sarandon', 'Director': 'Tyler Perry'}\n",
            "{'Title': 'It Ends with Us', 'Year': '2024', 'Poster': 'https://www.digitaltrends.com/wp-content/uploads/2024/12/cSMdFWmajaX4oUMLx7HEDI84GkP.jpg?p=1#038;p=1.jpg', 'Duration': '131', 'IMDB Rating': '5.1/10', 'Genre': 'Romance, Drama', 'Stars': 'Blake Lively, Justin Baldoni, Jenny Slate', 'Director': 'Justin Baldoni'}\n",
            "{'Title': 'Carry-On', 'Year': '2024', 'Poster': 'https://www.digitaltrends.com/wp-content/uploads/2024/12/jXLtHkDo1tRBxnxALTPd9AiH2bH.jpg?p=1#038;p=1.jpg', 'Duration': '119', 'IMDB Rating': '8.1/10', 'Genre': 'Thriller, Mystery, Action', 'Stars': 'Taron Egerton, Jason Bateman, Sofia Carson', 'Director': 'Jaume Collet-Serra'}\n",
            "{'Title': 'Afraid', 'Year': '2024', 'Poster': 'https://www.digitaltrends.com/wp-content/uploads/2024/12/gUREuXCnJLVHsvKXDH9fgIcfM6e.jpg?p=1#038;p=1.jpg', 'Duration': '84', 'IMDB Rating': '5.8/10', 'Genre': 'Horror, Science Fiction, Thriller', 'Stars': 'John Cho, Katherine Waterston, Keith Carradine', 'Director': 'Chris Weitz'}\n",
            "{'Title': 'Million Dollar Baby', 'Year': '2004', 'Poster': 'https://www.digitaltrends.com/wp-content/uploads/2024/11/jcfEqKdWF1zeyvECPqp3mkWLct2.jpg?p=1#038;p=1.jpg', 'Duration': '132', 'IMDB Rating': '6.5/10', 'Genre': 'Drama', 'Stars': 'Clint Eastwood, Hilary Swank, Morgan Freeman', 'Director': 'Clint Eastwood'}\n",
            "{'Title': 'Spellbound', 'Year': '2024', 'Poster': 'https://www.digitaltrends.com/wp-content/uploads/2024/11/xFSIygDiX70Esp9dheCgGX0Nj77.jpg?p=1#038;p=1.jpg', 'Duration': '111', 'IMDB Rating': '7.6/10', 'Genre': 'Animation, Fantasy, Family, Adventure, Comedy', 'Stars': 'Rachel Zegler, Miguel Bernardeau, Giovanna Bush', 'Director': 'Vicky Jenson'}\n",
            "{'Title': 'Rob Peace', 'Year': '2024', 'Poster': 'https://www.digitaltrends.com/wp-content/uploads/2024/11/1BwKbTidW5QaEKb1pVY3p4u9cVg.jpg?p=1#038;p=1.jpg', 'Duration': '120', 'IMDB Rating': '7.3/10', 'Genre': 'Drama, History', 'Stars': 'Jay Will, Mary J. Blige, Chiwetel Ejiofor', 'Director': 'Chiwetel Ejiofor'}\n",
            "{'Title': 'The Whale', 'Year': '2022', 'Poster': 'https://www.digitaltrends.com/wp-content/uploads/2024/11/jQ0gylJMxWSL490sy0RrPj1Lj7e.jpg?p=1#038;p=1.jpg', 'Duration': '117', 'IMDB Rating': '6.1/10', 'Genre': 'Drama', 'Stars': 'Brendan Fraser, Sadie Sink, Ty Simpkins', 'Director': 'Darren Aronofsky'}\n",
            "{'Title': 'Fast Five', 'Year': '2011', 'Poster': 'https://www.digitaltrends.com/wp-content/uploads/2023/03/gEfQjjQwY7fh5bI4GlG0RrBu7Pz.jpg?p=1#038;p=1.jpg', 'Duration': '130', 'IMDB Rating': '7.0/10', 'Genre': 'Action, Thriller, Crime', 'Stars': 'Vin Diesel, Paul Walker, Dwayne Johnson', 'Director': 'Justin Lin'}\n",
            "{'Title': 'The Lost City', 'Year': '2022', 'Poster': 'https://www.digitaltrends.com/wp-content/uploads/2022/08/neMZH82Stu91d3iqvLdNQfqPPyl.jpg?p=1#038;p=1.jpg', 'Duration': '112', 'IMDB Rating': '6.3/10', 'Genre': 'Action, Adventure, Comedy', 'Stars': 'Sandra Bullock, Channing Tatum, Daniel Radcliffe', 'Director': 'Aaron Nee, Adam Nee'}\n",
            "{'Title': 'Oblivion', 'Year': '2013', 'Poster': 'https://www.digitaltrends.com/wp-content/uploads/2024/11/eO3r38fwnhb58M1YgcjQBd3VNcp.jpg?p=1#038;p=1.jpg', 'Duration': '124', 'IMDB Rating': '7.2/10', 'Genre': 'Action, Science Fiction, Adventure, Mystery', 'Stars': 'Tom Cruise, Morgan Freeman, Olga Kurylenko', 'Director': 'Joseph Kosinski'}\n",
            "{'Title': 'Kung Fu Panda 4', 'Year': '2024', 'Poster': 'https://www.digitaltrends.com/wp-content/uploads/2024/06/kDp1vUBnMpe8ak4rjgl3cLELqjU.jpg?p=1#038;p=1.jpg', 'Duration': '94', 'IMDB Rating': '6.8/10', 'Genre': 'Animation, Family, Fantasy, Action', 'Stars': 'Jack Black, Awkwafina, Viola Davis', 'Director': 'Mike Mitchell'}\n",
            "{'Title': 'A Quiet Place Part II', 'Year': '2021', 'Poster': 'https://www.digitaltrends.com/wp-content/uploads/2022/06/4q2hz2m8hubgvijz8Ez0T2Os2Yv.jpg?p=1#038;p=1.jpg', 'Duration': '96', 'IMDB Rating': '6.6/10', 'Genre': 'Science Fiction, Thriller, Horror', 'Stars': 'Emily Blunt, John Krasinski, Millicent Simmonds', 'Director': 'John Krasinski'}\n",
            "{'Title': 'Woman of the Hour', 'Year': '2024', 'Poster': 'https://www.digitaltrends.com/wp-content/uploads/2024/10/2jMxTIXOTyLLg6xTVrgK5opRDNv.jpg?p=1#038;p=1.jpg', 'Duration': '95', 'IMDB Rating': '6.3/10', 'Genre': 'Drama, Crime, Thriller', 'Stars': 'Anna Kendrick, Daniel Zovatto, Tony Hale', 'Director': 'Anna Kendrick'}\n",
            "{'Title': 'Bad Boys: Ride or Die', 'Year': '2024', 'Poster': 'https://www.digitaltrends.com/wp-content/uploads/2024/10/oGythE98MYleE6mZlGs5oBGkux1.jpg?p=1#038;p=1.jpg', 'Duration': '115', 'IMDB Rating': '5.7/10', 'Genre': 'Action, Crime, Thriller, Comedy', 'Stars': 'Will Smith, Martin Lawrence, Vanessa Hudgens', 'Director': 'Adil El Arbi, Bilall Fallah'}\n",
            "{'Title': 'Scream', 'Year': '2022', 'Poster': 'https://www.digitaltrends.com/wp-content/uploads/2024/10/1m3W6cpgwuIyjtg5nSnPx7yFkXW.jpg?p=1#038;p=1.jpg', 'Duration': '114', 'IMDB Rating': '7.0/10', 'Genre': 'Horror, Mystery, Thriller', 'Stars': 'Melissa Barrera, Jenna Ortega, Mason Gooding', 'Director': 'Tyler Gillett, Matt Bettinelli-Olpin'}\n",
            "{'Title': 'The Garfield Movie', 'Year': '2024', 'Poster': 'https://www.digitaltrends.com/wp-content/uploads/2024/09/p6AbOJvMQhBmffd0PIv0u8ghWeY.jpg?p=1#038;p=1.jpg', 'Duration': '101', 'IMDB Rating': '5.1/10', 'Genre': 'Animation, Comedy, Family, Adventure, Action', 'Stars': 'Chris Pratt, Samuel L. Jackson, Hannah Waddingham', 'Director': 'Mark Dindal'}\n",
            "{'Title': 'Rebel Ridge', 'Year': '2024', 'Poster': 'https://www.digitaltrends.com/wp-content/uploads/2024/09/xEt2GSz9z5rSVpIHMiGdtf0czyf.jpg?p=1#038;p=1.jpg', 'Duration': '132', 'IMDB Rating': '5.5/10', 'Genre': 'Crime, Action, Thriller', 'Stars': 'Aaron Pierre, Don Johnson, AnnaSophia Robb', 'Director': 'Jeremy Saulnier'}\n",
            "{'Title': 'The Deliverance', 'Year': '2024', 'Poster': 'https://www.digitaltrends.com/wp-content/uploads/2024/08/og1FteMFRInoQnlZeWqEn8XpXHh.jpg?p=1#038;p=1.jpg', 'Duration': '112', 'IMDB Rating': '6.6/10', 'Genre': 'Horror, Thriller', 'Stars': 'Andra Day, Glenn Close, Anthony B. Jenkins', 'Director': 'Lee Daniels'}\n",
            "{'Title': 'The Union', 'Year': '2024', 'Poster': 'https://www.digitaltrends.com/wp-content/uploads/2024/08/d9CTnTHip1RbVi2OQbA2LJJQAGI.jpg?p=1#038;p=1.jpg', 'Duration': '109', 'IMDB Rating': '7.0/10', 'Genre': 'Action, Comedy', 'Stars': 'Mark Wahlberg, Halle Berry, J.K. Simmons', 'Director': 'Julian Farino'}\n",
            "{'Title': 'Migration', 'Year': '2023', 'Poster': 'https://www.digitaltrends.com/wp-content/uploads/2024/04/ldfCF9RhR40mppkzmftxapaHeTo.jpg?p=1#038;p=1.jpg', 'Duration': '83', 'IMDB Rating': '6.1/10', 'Genre': 'Animation, Action, Adventure, Comedy, Family', 'Stars': 'Kumail Nanjiani, Elizabeth Banks, Caspar Jennings', 'Director': 'Benjamin Renner'}\n",
            "{'Title': 'Pearl', 'Year': '2022', 'Poster': 'https://www.digitaltrends.com/wp-content/uploads/2023/09/ulBLIBqvdnf4H6JBt0OpMCU1ECn.jpg?p=1#038;p=1.jpg', 'Duration': '102', 'IMDB Rating': '7.1/10', 'Genre': 'Horror, Drama', 'Stars': 'Mia Goth, David Corenswet, Tandi Wright', 'Director': 'Ti West'}\n",
            "{'Title': 'Ghostbusters: Frozen Empire', 'Year': '2024', 'Poster': 'https://www.digitaltrends.com/wp-content/uploads/2024/07/e1J2oNzSBdou01sUvriVuoYp0pJ.jpg?p=1#038;p=1.jpg', 'Duration': '115', 'IMDB Rating': '6.7/10', 'Genre': 'Fantasy, Adventure, Comedy', 'Stars': 'Mckenna Grace, Paul Rudd, Carrie Coon', 'Director': 'Gil Kenan'}\n",
            "{'Title': 'Bone Tomahawk', 'Year': '2015', 'Poster': 'https://www.digitaltrends.com/wp-content/uploads/2024/01/4MmTHpn2Y8emqvBgvOjufImUmKZ.jpg?p=1#038;p=1.jpg', 'Duration': '133', 'IMDB Rating': '7.4/10', 'Genre': 'Western, Horror, Drama', 'Stars': 'Kurt Russell, Patrick Wilson, Richard Jenkins', 'Director': 'S. Craig Zahler'}\n",
            "{'Title': 'Beverly Hills Cop: Axel F', 'Year': '2024', 'Poster': 'https://www.digitaltrends.com/wp-content/uploads/2024/07/zszRKfzjM5jltiq8rk6rasKVpUv.jpg?p=1#038;p=1.jpg', 'Duration': '118', 'IMDB Rating': '7.9/10', 'Genre': 'Action, Comedy, Crime', 'Stars': 'Eddie Murphy, Joseph Gordon-Levitt, Taylour Paige', 'Director': 'Mark Molloy'}\n",
            "{'Title': 'Hit Man', 'Year': '2024', 'Poster': 'https://www.digitaltrends.com/wp-content/uploads/2024/06/1126gjlBf4hTm9Sgf0ox3LGVEBt.jpg?p=1#038;p=1.jpg', 'Duration': '115', 'IMDB Rating': '6.2/10', 'Genre': 'Comedy, Romance, Crime', 'Stars': 'Glen Powell, Adria Arjona, Austin Amelio', 'Director': 'Richard Linklater'}\n",
            "{'Title': 'Godzilla Minus One', 'Year': '2023', 'Poster': 'https://www.digitaltrends.com/wp-content/uploads/2024/06/hkxxMIGaiCTmrEArK7J56JTKUlB.jpg?p=1#038;p=1.jpg', 'Duration': '125', 'IMDB Rating': '7.5/10', 'Genre': 'Science Fiction, Horror, Action', 'Stars': 'Ryunosuke Kamiki, Minami Hamabe, Yuki Yamada', 'Director': 'Takashi Yamazaki'}\n",
            "{'Title': 'Anyone But You', 'Year': '2023', 'Poster': 'https://www.digitaltrends.com/wp-content/uploads/2024/04/5qHoazZiaLe7oFBok7XlUhg96f2.jpg?p=1#038;p=1.jpg', 'Duration': '104', 'IMDB Rating': '5.8/10', 'Genre': 'Romance, Comedy', 'Stars': 'Sydney Sweeney, Glen Powell, Mia Artemis', 'Director': 'Will Gluck'}\n",
            "{'Title': 'Baby Driver', 'Year': '2017', 'Poster': 'https://www.digitaltrends.com/wp-content/uploads/2022/06/rmnQ9jKW72bHu8uKlMjPIb2VLMI.jpg?p=1#038;p=1.jpg', 'Duration': '113', 'IMDB Rating': '5.8/10', 'Genre': 'Action, Crime', 'Stars': 'Ansel Elgort, Kevin Spacey, Lily James', 'Director': 'Edgar Wright'}\n",
            "{'Title': 'The Wages of Fear', 'Year': '2024', 'Poster': 'https://www.digitaltrends.com/wp-content/uploads/2024/03/jFK2ZLQUzo9pea0jfMCHDfvWsx7.jpg?p=1#038;p=1.jpg', 'Duration': '104', 'IMDB Rating': '6.4/10', 'Genre': 'Action, Thriller', 'Stars': 'Franck Gastambide, Alban Lenoir, Ana Girardot', 'Director': 'Julien Leclercq'}\n",
            "{'Title': 'Your Lucky Day', 'Year': '2023', 'Poster': 'https://www.digitaltrends.com/wp-content/uploads/2024/03/oDJ1Jl0vbbrsZd7HAMMmcY3rh7B.jpg?p=1#038;p=1.jpg', 'Duration': '89', 'IMDB Rating': '6.9/10', 'Genre': 'Crime, Thriller', 'Stars': 'Angus Cloud, Elliot Knight, Jessica Garza', 'Director': 'Dan Brown'}\n",
            "{'Title': 'Spaceman', 'Year': '2024', 'Poster': 'https://www.digitaltrends.com/wp-content/uploads/2024/03/5hnFFOWEchErNVr0wMLWFEob3q1.jpg?p=1#038;p=1.jpg', 'Duration': '108', 'IMDB Rating': '6.8/10', 'Genre': 'Science Fiction, Drama', 'Stars': 'Adam Sandler, Paul Dano, Carey Mulligan', 'Director': 'Johan Renck'}\n",
            "{'Title': 'Thanksgiving', 'Year': '2023', 'Poster': 'https://www.digitaltrends.com/wp-content/uploads/2024/02/9KRLgkJ9FufHBh6mEj0WCIfOME8.jpg?p=1#038;p=1.jpg', 'Duration': '106', 'IMDB Rating': '7.3/10', 'Genre': 'Horror, Mystery, Thriller', 'Stars': 'Patrick Dempsey, Nell Verlaque, Addison Rae', 'Director': 'Eli Roth'}\n",
            "{'Title': 'Orion and the Dark', 'Year': '2024', 'Poster': 'https://www.digitaltrends.com/wp-content/uploads/2024/02/uHiXFLMlnl5jBjtfOliapN16yBD.jpg?p=1#038;p=1.jpg', 'Duration': '91', 'IMDB Rating': '7.4/10', 'Genre': 'Family, Comedy, Animation, Fantasy', 'Stars': 'Jacob Tremblay, Paul Walter Hauser, Angela Bassett', 'Director': 'Sean Charmatz'}\n",
            "{'Title': 'Dumb Money', 'Year': '2023', 'Poster': 'https://www.digitaltrends.com/wp-content/uploads/2024/01/bqs4TeKFbfkcbQbuGAuKYu82tnp.jpg?p=1#038;p=1.jpg', 'Duration': '104', 'IMDB Rating': '8.7/10', 'Genre': 'Comedy, Drama, History', 'Stars': 'Paul Dano, Shailene Woodley, America Ferrera', 'Director': 'Craig Gillespie'}\n",
            "{'Title': 'The Equalizer 3', 'Year': '2023', 'Poster': 'https://www.digitaltrends.com/wp-content/uploads/2024/01/b0Ej6fnXAP8fK75hlyi2jKqdhHz.jpg?p=1#038;p=1.jpg', 'Duration': '109', 'IMDB Rating': '6.4/10', 'Genre': 'Action, Thriller, Crime', 'Stars': 'Denzel Washington, Dakota Fanning, Eugenio Mastrandrea', 'Director': 'Antoine Fuqua'}\n",
            "{'Title': 'Maestro', 'Year': '2023', 'Poster': 'https://www.digitaltrends.com/wp-content/uploads/2023/12/kxj7rMco6RNYsVcNwuGAIlfWu64.jpg?p=1#038;p=1.jpg', 'Duration': '129', 'IMDB Rating': None, 'Genre': 'Drama, Romance, Music', 'Stars': 'Carey Mulligan, Bradley Cooper, Matt Bomer', 'Director': 'Bradley Cooper'}\n",
            "{'Title': 'The Killer', 'Year': '2023', 'Poster': 'https://www.digitaltrends.com/wp-content/uploads/2023/11/e7Jvsry47JJQruuezjU2X1Z6J77.jpg?p=1#038;p=1.jpg', 'Duration': '118', 'IMDB Rating': None, 'Genre': 'Crime, Thriller', 'Stars': 'Michael Fassbender, Tilda Swinton, Charles Parnell', 'Director': 'David Fincher'}\n",
            "{'Title': 'Spider-Man: Across the Spider-Verse', 'Year': '2023', 'Poster': 'https://www.digitaltrends.com/wp-content/uploads/2023/06/8Vt6mWEReuy4Of61Lnj5Xj704m8.jpg?p=1#038;p=1.jpg', 'Duration': '140', 'IMDB Rating': None, 'Genre': 'Animation, Action, Adventure', 'Stars': 'Shameik Moore, Hailee Steinfeld, Jason Schwartzman', 'Director': 'Joaquim Dos Santos, Justin K. Thompson, Kemp Powers'}\n",
            "{'Title': 'No Hard Feelings', 'Year': '2023', 'Poster': 'https://www.digitaltrends.com/wp-content/uploads/2023/10/gD72DhJ7NbfxvtxGiAzLaa0xaoj.jpg?p=1#038;p=1.jpg', 'Duration': '104', 'IMDB Rating': None, 'Genre': 'Comedy, Romance', 'Stars': 'Jennifer Lawrence, Andrew Barth Feldman, Laura Benanti', 'Director': 'Gene Stupnitsky'}\n"
          ]
        }
      ]
    },
    {
      "cell_type": "code",
      "source": [
        "len(movies_data)"
      ],
      "metadata": {
        "id": "Us9D9pgA2kIh",
        "outputId": "7c895060-7534-4555-9e0e-858a387a4b8c",
        "colab": {
          "base_uri": "https://localhost:8080/"
        }
      },
      "execution_count": null,
      "outputs": [
        {
          "output_type": "execute_result",
          "data": {
            "text/plain": [
              "50"
            ]
          },
          "metadata": {},
          "execution_count": 39
        }
      ]
    },
    {
      "cell_type": "markdown",
      "source": [
        "####*Save the result in a SQL database*"
      ],
      "metadata": {
        "id": "2C-d-y3wnDp0"
      }
    },
    {
      "cell_type": "code",
      "source": [
        "#Test your Zaka\n",
        "import sqlite3\n",
        "\n",
        "# Connect to (or create) an SQLite database file\n",
        "conn = sqlite3.connect('movies.db')\n",
        "cursor = conn.cursor()\n",
        "\n",
        "# Create a table for storing the movie data\n",
        "cursor.execute('''\n",
        "    CREATE TABLE IF NOT EXISTS movies (\n",
        "        id INTEGER PRIMARY KEY AUTOINCREMENT,\n",
        "        title TEXT,\n",
        "        year INTEGER,\n",
        "        poster_url TEXT,\n",
        "        duration INTEGER,\n",
        "        imdb_rating TEXT,\n",
        "        genre TEXT,\n",
        "        stars TEXT,\n",
        "        director TEXT\n",
        "    )\n",
        "''')\n",
        "\n",
        "# Commit the changes\n",
        "conn.commit()\n",
        "# Insert movie data into the database\n",
        "for movie in movies_data:\n",
        "    cursor.execute('''\n",
        "        INSERT INTO movies (title, year, poster_url, duration, imdb_rating, genre, stars, director)\n",
        "        VALUES (?, ?, ?, ?, ?, ?, ?, ?)\n",
        "    ''', (\n",
        "        movie['Title'],\n",
        "        movie['Year'],\n",
        "        movie['Poster'],\n",
        "        movie['Duration'],\n",
        "        movie['IMDB Rating'],\n",
        "        movie['Genre'],\n",
        "        movie['Stars'],\n",
        "        movie['Director']\n",
        "    ))\n",
        "\n",
        "# Commit the changes and close the connection\n",
        "conn.commit()\n",
        "conn.close()\n"
      ],
      "metadata": {
        "id": "AGYsKHAhoKYu"
      },
      "execution_count": null,
      "outputs": []
    },
    {
      "cell_type": "code",
      "source": [
        "conn = sqlite3.connect('movies.db')\n",
        "cursor = conn.cursor()\n",
        "\n",
        "cursor.execute('SELECT * FROM movies LIMIT 5')  # Retrieve the first 5 rows\n",
        "rows = cursor.fetchall()\n",
        "\n",
        "for row in rows:\n",
        "    print(row)\n",
        "\n",
        "conn.close()\n"
      ],
      "metadata": {
        "id": "ZxwmFbX93NQ-",
        "outputId": "09f8c1e9-232f-4052-9374-887d4be2c00d",
        "colab": {
          "base_uri": "https://localhost:8080/"
        }
      },
      "execution_count": null,
      "outputs": [
        {
          "output_type": "stream",
          "name": "stdout",
          "text": [
            "(1, 'Scream VI', 2023, 'https://www.digitaltrends.com/wp-content/uploads/2025/01/wDWwtvkRRlgTiUr6TyLSMX8FCuZ.jpg?p=1#038;p=1.jpg', 123, '6.4/10', 'Horror, Crime, Thriller', 'Melissa Barrera, Jenna Ortega, Jasmin Savoy Brown', 'Tyler Gillett, Matt Bettinelli-Olpin')\n",
            "(2, 'Saturday Night', 2024, 'https://www.digitaltrends.com/wp-content/uploads/2025/01/oCf5O6uxooTvRwKVnLHwGqZUifq.jpg?p=1#038;p=1.jpg', 109, '7.0/10', 'Comedy, Drama', 'Gabriel LaBelle, Rachel Sennott, Cory Michael Smith', 'Jason Reitman')\n",
            "(3, 'Back in Action', 2025, 'https://www.digitaltrends.com/wp-content/uploads/2025/01/zDdwuxEr6GTtl0o7PbVvVo4ht5i.jpg?p=1#038;p=1.jpg', 114, '7.3/10', 'Action, Comedy', 'Cameron Diaz, Jamie Foxx, McKenna Roberts', 'Seth Gordon')\n",
            "(4, 'Hereditary', 2018, 'https://www.digitaltrends.com/wp-content/uploads/2023/04/p9fmuz2Oj3HtEJEqbIwkFGUhVXD.jpg?p=1#038;p=1.jpg', 128, '7.5/10', 'Horror, Mystery, Thriller', 'Toni Collette, Alex Wolff, Gabriel Byrne', 'Ari Aster')\n",
            "(5, 'Furiosa: A Mad Max Saga', 2024, 'https://www.digitaltrends.com/wp-content/uploads/2024/08/iADOJ8Zymht2JPMoy3R7xceZprc.jpg?p=1#038;p=1.jpg', 149, '6.9/10', 'Action, Science Fiction, Adventure', 'Anya Taylor-Joy, Chris Hemsworth, Tom Burke', 'George Miller')\n"
          ]
        }
      ]
    },
    {
      "cell_type": "markdown",
      "source": [
        "####3. Running some queries against the database we created"
      ],
      "metadata": {
        "id": "cbv4e4lvwZjN"
      }
    },
    {
      "cell_type": "markdown",
      "source": [
        "Write a query that returns all movies with all their specifications"
      ],
      "metadata": {
        "id": "RaHls7pSwetS"
      }
    },
    {
      "cell_type": "code",
      "source": [
        "#Test your Zaka\n",
        "conn = sqlite3.connect('movies.db')\n",
        "cursor = conn.cursor()\n",
        "\n",
        "# Query to select all movies\n",
        "cursor.execute('SELECT * FROM movies')\n",
        "rows = cursor.fetchall()\n",
        "\n",
        "# Display all movies\n",
        "for row in rows:\n",
        "    print(row)\n",
        "\n",
        "conn.close()\n"
      ],
      "metadata": {
        "id": "SMrdy6xjpQHv",
        "outputId": "9b133aac-f9d5-46ef-cf39-6ecbde7e16ba",
        "colab": {
          "base_uri": "https://localhost:8080/"
        }
      },
      "execution_count": null,
      "outputs": [
        {
          "output_type": "stream",
          "name": "stdout",
          "text": [
            "(1, 'Scream VI', 2023, 'https://www.digitaltrends.com/wp-content/uploads/2025/01/wDWwtvkRRlgTiUr6TyLSMX8FCuZ.jpg?p=1#038;p=1.jpg', 123, '6.4/10', 'Horror, Crime, Thriller', 'Melissa Barrera, Jenna Ortega, Jasmin Savoy Brown', 'Tyler Gillett, Matt Bettinelli-Olpin')\n",
            "(2, 'Saturday Night', 2024, 'https://www.digitaltrends.com/wp-content/uploads/2025/01/oCf5O6uxooTvRwKVnLHwGqZUifq.jpg?p=1#038;p=1.jpg', 109, '7.0/10', 'Comedy, Drama', 'Gabriel LaBelle, Rachel Sennott, Cory Michael Smith', 'Jason Reitman')\n",
            "(3, 'Back in Action', 2025, 'https://www.digitaltrends.com/wp-content/uploads/2025/01/zDdwuxEr6GTtl0o7PbVvVo4ht5i.jpg?p=1#038;p=1.jpg', 114, '7.3/10', 'Action, Comedy', 'Cameron Diaz, Jamie Foxx, McKenna Roberts', 'Seth Gordon')\n",
            "(4, 'Hereditary', 2018, 'https://www.digitaltrends.com/wp-content/uploads/2023/04/p9fmuz2Oj3HtEJEqbIwkFGUhVXD.jpg?p=1#038;p=1.jpg', 128, '7.5/10', 'Horror, Mystery, Thriller', 'Toni Collette, Alex Wolff, Gabriel Byrne', 'Ari Aster')\n",
            "(5, 'Furiosa: A Mad Max Saga', 2024, 'https://www.digitaltrends.com/wp-content/uploads/2024/08/iADOJ8Zymht2JPMoy3R7xceZprc.jpg?p=1#038;p=1.jpg', 149, '6.9/10', 'Action, Science Fiction, Adventure', 'Anya Taylor-Joy, Chris Hemsworth, Tom Burke', 'George Miller')\n",
            "(6, 'In the Heart of the Sea', 2015, 'https://www.digitaltrends.com/wp-content/uploads/2025/01/weVvNPfk6FM9vBg3BXtRtNAmiYM.jpg?p=1#038;p=1.jpg', 122, '8.7/10', 'Thriller, Drama, Adventure, Action, History', 'Chris Hemsworth, Benjamin Walker, Cillian Murphy', 'Ron Howard')\n",
            "(7, 'Interstellar', 2014, 'https://www.digitaltrends.com/wp-content/uploads/2022/10/gEU2QniE6E77NI6lCU6MxlNBvIx.jpg?p=1#038;p=1.jpg', 169, '7.9/10', 'Adventure, Drama, Science Fiction', 'Matthew McConaughey, Anne Hathaway, Michael Caine', 'Christopher Nolan')\n",
            "(8, 'Wallace & Gromit: Vengeance Most Fowl', 2024, 'https://www.digitaltrends.com/wp-content/uploads/2025/01/6BxK38ehxuX2dJmZIMpJcVNbYks.jpg?p=1#038;p=1.jpg', 79, '6.1/10', 'Animation, Comedy, Family', 'Ben Whitehead, Reece Shearsmith, Peter Kay', 'Nick Park, Merlin Crossingham')\n",
            "(9, 'Godzilla x Kong: The New Empire', 2024, 'https://www.digitaltrends.com/wp-content/uploads/2024/07/z1p34vh7dEOnLDmyCrlUVLuoDzd.jpg?p=1#038;p=1.jpg', 115, '6.8/10', 'Action, Adventure, Science Fiction', 'Rebecca Hall, Brian Tyree Henry, Dan Stevens', 'Adam Wingard')\n",
            "(10, 'Barbie', 2023, 'https://www.digitaltrends.com/wp-content/uploads/2023/12/iuFNMS8U5cb6xfzi51Dbkovj7vM.jpg?p=1#038;p=1.jpg', 114, '5.6/10', 'Comedy, Adventure', 'Margot Robbie, Ryan Gosling, America Ferrera', 'Greta Gerwig')\n",
            "(11, 'The Six Triple Eight', 2024, 'https://www.digitaltrends.com/wp-content/uploads/2024/12/2N8VL4jePIGpAupSqVcGiPekIf4.jpg?p=1#038;p=1.jpg', 127, '6.5/10', 'Drama, War', 'Kerry Washington, Sam Waterston, Susan Sarandon', 'Tyler Perry')\n",
            "(12, 'It Ends with Us', 2024, 'https://www.digitaltrends.com/wp-content/uploads/2024/12/cSMdFWmajaX4oUMLx7HEDI84GkP.jpg?p=1#038;p=1.jpg', 131, '5.1/10', 'Romance, Drama', 'Blake Lively, Justin Baldoni, Jenny Slate', 'Justin Baldoni')\n",
            "(13, 'Carry-On', 2024, 'https://www.digitaltrends.com/wp-content/uploads/2024/12/jXLtHkDo1tRBxnxALTPd9AiH2bH.jpg?p=1#038;p=1.jpg', 119, '8.1/10', 'Thriller, Mystery, Action', 'Taron Egerton, Jason Bateman, Sofia Carson', 'Jaume Collet-Serra')\n",
            "(14, 'Afraid', 2024, 'https://www.digitaltrends.com/wp-content/uploads/2024/12/gUREuXCnJLVHsvKXDH9fgIcfM6e.jpg?p=1#038;p=1.jpg', 84, '5.8/10', 'Horror, Science Fiction, Thriller', 'John Cho, Katherine Waterston, Keith Carradine', 'Chris Weitz')\n",
            "(15, 'Million Dollar Baby', 2004, 'https://www.digitaltrends.com/wp-content/uploads/2024/11/jcfEqKdWF1zeyvECPqp3mkWLct2.jpg?p=1#038;p=1.jpg', 132, '6.5/10', 'Drama', 'Clint Eastwood, Hilary Swank, Morgan Freeman', 'Clint Eastwood')\n",
            "(16, 'Spellbound', 2024, 'https://www.digitaltrends.com/wp-content/uploads/2024/11/xFSIygDiX70Esp9dheCgGX0Nj77.jpg?p=1#038;p=1.jpg', 111, '7.6/10', 'Animation, Fantasy, Family, Adventure, Comedy', 'Rachel Zegler, Miguel Bernardeau, Giovanna Bush', 'Vicky Jenson')\n",
            "(17, 'Rob Peace', 2024, 'https://www.digitaltrends.com/wp-content/uploads/2024/11/1BwKbTidW5QaEKb1pVY3p4u9cVg.jpg?p=1#038;p=1.jpg', 120, '7.3/10', 'Drama, History', 'Jay Will, Mary J. Blige, Chiwetel Ejiofor', 'Chiwetel Ejiofor')\n",
            "(18, 'The Whale', 2022, 'https://www.digitaltrends.com/wp-content/uploads/2024/11/jQ0gylJMxWSL490sy0RrPj1Lj7e.jpg?p=1#038;p=1.jpg', 117, '6.1/10', 'Drama', 'Brendan Fraser, Sadie Sink, Ty Simpkins', 'Darren Aronofsky')\n",
            "(19, 'Fast Five', 2011, 'https://www.digitaltrends.com/wp-content/uploads/2023/03/gEfQjjQwY7fh5bI4GlG0RrBu7Pz.jpg?p=1#038;p=1.jpg', 130, '7.0/10', 'Action, Thriller, Crime', 'Vin Diesel, Paul Walker, Dwayne Johnson', 'Justin Lin')\n",
            "(20, 'The Lost City', 2022, 'https://www.digitaltrends.com/wp-content/uploads/2022/08/neMZH82Stu91d3iqvLdNQfqPPyl.jpg?p=1#038;p=1.jpg', 112, '6.3/10', 'Action, Adventure, Comedy', 'Sandra Bullock, Channing Tatum, Daniel Radcliffe', 'Aaron Nee, Adam Nee')\n",
            "(21, 'Oblivion', 2013, 'https://www.digitaltrends.com/wp-content/uploads/2024/11/eO3r38fwnhb58M1YgcjQBd3VNcp.jpg?p=1#038;p=1.jpg', 124, '7.2/10', 'Action, Science Fiction, Adventure, Mystery', 'Tom Cruise, Morgan Freeman, Olga Kurylenko', 'Joseph Kosinski')\n",
            "(22, 'Kung Fu Panda 4', 2024, 'https://www.digitaltrends.com/wp-content/uploads/2024/06/kDp1vUBnMpe8ak4rjgl3cLELqjU.jpg?p=1#038;p=1.jpg', 94, '6.8/10', 'Animation, Family, Fantasy, Action', 'Jack Black, Awkwafina, Viola Davis', 'Mike Mitchell')\n",
            "(23, 'A Quiet Place Part II', 2021, 'https://www.digitaltrends.com/wp-content/uploads/2022/06/4q2hz2m8hubgvijz8Ez0T2Os2Yv.jpg?p=1#038;p=1.jpg', 96, '6.6/10', 'Science Fiction, Thriller, Horror', 'Emily Blunt, John Krasinski, Millicent Simmonds', 'John Krasinski')\n",
            "(24, 'Woman of the Hour', 2024, 'https://www.digitaltrends.com/wp-content/uploads/2024/10/2jMxTIXOTyLLg6xTVrgK5opRDNv.jpg?p=1#038;p=1.jpg', 95, '6.3/10', 'Drama, Crime, Thriller', 'Anna Kendrick, Daniel Zovatto, Tony Hale', 'Anna Kendrick')\n",
            "(25, 'Bad Boys: Ride or Die', 2024, 'https://www.digitaltrends.com/wp-content/uploads/2024/10/oGythE98MYleE6mZlGs5oBGkux1.jpg?p=1#038;p=1.jpg', 115, '5.7/10', 'Action, Crime, Thriller, Comedy', 'Will Smith, Martin Lawrence, Vanessa Hudgens', 'Adil El Arbi, Bilall Fallah')\n",
            "(26, 'Scream', 2022, 'https://www.digitaltrends.com/wp-content/uploads/2024/10/1m3W6cpgwuIyjtg5nSnPx7yFkXW.jpg?p=1#038;p=1.jpg', 114, '7.0/10', 'Horror, Mystery, Thriller', 'Melissa Barrera, Jenna Ortega, Mason Gooding', 'Tyler Gillett, Matt Bettinelli-Olpin')\n",
            "(27, 'The Garfield Movie', 2024, 'https://www.digitaltrends.com/wp-content/uploads/2024/09/p6AbOJvMQhBmffd0PIv0u8ghWeY.jpg?p=1#038;p=1.jpg', 101, '5.1/10', 'Animation, Comedy, Family, Adventure, Action', 'Chris Pratt, Samuel L. Jackson, Hannah Waddingham', 'Mark Dindal')\n",
            "(28, 'Rebel Ridge', 2024, 'https://www.digitaltrends.com/wp-content/uploads/2024/09/xEt2GSz9z5rSVpIHMiGdtf0czyf.jpg?p=1#038;p=1.jpg', 132, '5.5/10', 'Crime, Action, Thriller', 'Aaron Pierre, Don Johnson, AnnaSophia Robb', 'Jeremy Saulnier')\n",
            "(29, 'The Deliverance', 2024, 'https://www.digitaltrends.com/wp-content/uploads/2024/08/og1FteMFRInoQnlZeWqEn8XpXHh.jpg?p=1#038;p=1.jpg', 112, '6.6/10', 'Horror, Thriller', 'Andra Day, Glenn Close, Anthony B. Jenkins', 'Lee Daniels')\n",
            "(30, 'The Union', 2024, 'https://www.digitaltrends.com/wp-content/uploads/2024/08/d9CTnTHip1RbVi2OQbA2LJJQAGI.jpg?p=1#038;p=1.jpg', 109, '7.0/10', 'Action, Comedy', 'Mark Wahlberg, Halle Berry, J.K. Simmons', 'Julian Farino')\n",
            "(31, 'Migration', 2023, 'https://www.digitaltrends.com/wp-content/uploads/2024/04/ldfCF9RhR40mppkzmftxapaHeTo.jpg?p=1#038;p=1.jpg', 83, '6.1/10', 'Animation, Action, Adventure, Comedy, Family', 'Kumail Nanjiani, Elizabeth Banks, Caspar Jennings', 'Benjamin Renner')\n",
            "(32, 'Pearl', 2022, 'https://www.digitaltrends.com/wp-content/uploads/2023/09/ulBLIBqvdnf4H6JBt0OpMCU1ECn.jpg?p=1#038;p=1.jpg', 102, '7.1/10', 'Horror, Drama', 'Mia Goth, David Corenswet, Tandi Wright', 'Ti West')\n",
            "(33, 'Ghostbusters: Frozen Empire', 2024, 'https://www.digitaltrends.com/wp-content/uploads/2024/07/e1J2oNzSBdou01sUvriVuoYp0pJ.jpg?p=1#038;p=1.jpg', 115, '6.7/10', 'Fantasy, Adventure, Comedy', 'Mckenna Grace, Paul Rudd, Carrie Coon', 'Gil Kenan')\n",
            "(34, 'Bone Tomahawk', 2015, 'https://www.digitaltrends.com/wp-content/uploads/2024/01/4MmTHpn2Y8emqvBgvOjufImUmKZ.jpg?p=1#038;p=1.jpg', 133, '7.4/10', 'Western, Horror, Drama', 'Kurt Russell, Patrick Wilson, Richard Jenkins', 'S. Craig Zahler')\n",
            "(35, 'Beverly Hills Cop: Axel F', 2024, 'https://www.digitaltrends.com/wp-content/uploads/2024/07/zszRKfzjM5jltiq8rk6rasKVpUv.jpg?p=1#038;p=1.jpg', 118, '7.9/10', 'Action, Comedy, Crime', 'Eddie Murphy, Joseph Gordon-Levitt, Taylour Paige', 'Mark Molloy')\n",
            "(36, 'Hit Man', 2024, 'https://www.digitaltrends.com/wp-content/uploads/2024/06/1126gjlBf4hTm9Sgf0ox3LGVEBt.jpg?p=1#038;p=1.jpg', 115, '6.2/10', 'Comedy, Romance, Crime', 'Glen Powell, Adria Arjona, Austin Amelio', 'Richard Linklater')\n",
            "(37, 'Godzilla Minus One', 2023, 'https://www.digitaltrends.com/wp-content/uploads/2024/06/hkxxMIGaiCTmrEArK7J56JTKUlB.jpg?p=1#038;p=1.jpg', 125, '7.5/10', 'Science Fiction, Horror, Action', 'Ryunosuke Kamiki, Minami Hamabe, Yuki Yamada', 'Takashi Yamazaki')\n",
            "(38, 'Anyone But You', 2023, 'https://www.digitaltrends.com/wp-content/uploads/2024/04/5qHoazZiaLe7oFBok7XlUhg96f2.jpg?p=1#038;p=1.jpg', 104, '5.8/10', 'Romance, Comedy', 'Sydney Sweeney, Glen Powell, Mia Artemis', 'Will Gluck')\n",
            "(39, 'Baby Driver', 2017, 'https://www.digitaltrends.com/wp-content/uploads/2022/06/rmnQ9jKW72bHu8uKlMjPIb2VLMI.jpg?p=1#038;p=1.jpg', 113, '5.8/10', 'Action, Crime', 'Ansel Elgort, Kevin Spacey, Lily James', 'Edgar Wright')\n",
            "(40, 'The Wages of Fear', 2024, 'https://www.digitaltrends.com/wp-content/uploads/2024/03/jFK2ZLQUzo9pea0jfMCHDfvWsx7.jpg?p=1#038;p=1.jpg', 104, '6.4/10', 'Action, Thriller', 'Franck Gastambide, Alban Lenoir, Ana Girardot', 'Julien Leclercq')\n",
            "(41, 'Your Lucky Day', 2023, 'https://www.digitaltrends.com/wp-content/uploads/2024/03/oDJ1Jl0vbbrsZd7HAMMmcY3rh7B.jpg?p=1#038;p=1.jpg', 89, '6.9/10', 'Crime, Thriller', 'Angus Cloud, Elliot Knight, Jessica Garza', 'Dan Brown')\n",
            "(42, 'Spaceman', 2024, 'https://www.digitaltrends.com/wp-content/uploads/2024/03/5hnFFOWEchErNVr0wMLWFEob3q1.jpg?p=1#038;p=1.jpg', 108, '6.8/10', 'Science Fiction, Drama', 'Adam Sandler, Paul Dano, Carey Mulligan', 'Johan Renck')\n",
            "(43, 'Thanksgiving', 2023, 'https://www.digitaltrends.com/wp-content/uploads/2024/02/9KRLgkJ9FufHBh6mEj0WCIfOME8.jpg?p=1#038;p=1.jpg', 106, '7.3/10', 'Horror, Mystery, Thriller', 'Patrick Dempsey, Nell Verlaque, Addison Rae', 'Eli Roth')\n",
            "(44, 'Orion and the Dark', 2024, 'https://www.digitaltrends.com/wp-content/uploads/2024/02/uHiXFLMlnl5jBjtfOliapN16yBD.jpg?p=1#038;p=1.jpg', 91, '7.4/10', 'Family, Comedy, Animation, Fantasy', 'Jacob Tremblay, Paul Walter Hauser, Angela Bassett', 'Sean Charmatz')\n",
            "(45, 'Dumb Money', 2023, 'https://www.digitaltrends.com/wp-content/uploads/2024/01/bqs4TeKFbfkcbQbuGAuKYu82tnp.jpg?p=1#038;p=1.jpg', 104, '8.7/10', 'Comedy, Drama, History', 'Paul Dano, Shailene Woodley, America Ferrera', 'Craig Gillespie')\n",
            "(46, 'The Equalizer 3', 2023, 'https://www.digitaltrends.com/wp-content/uploads/2024/01/b0Ej6fnXAP8fK75hlyi2jKqdhHz.jpg?p=1#038;p=1.jpg', 109, '6.4/10', 'Action, Thriller, Crime', 'Denzel Washington, Dakota Fanning, Eugenio Mastrandrea', 'Antoine Fuqua')\n",
            "(47, 'Maestro', 2023, 'https://www.digitaltrends.com/wp-content/uploads/2023/12/kxj7rMco6RNYsVcNwuGAIlfWu64.jpg?p=1#038;p=1.jpg', 129, None, 'Drama, Romance, Music', 'Carey Mulligan, Bradley Cooper, Matt Bomer', 'Bradley Cooper')\n",
            "(48, 'The Killer', 2023, 'https://www.digitaltrends.com/wp-content/uploads/2023/11/e7Jvsry47JJQruuezjU2X1Z6J77.jpg?p=1#038;p=1.jpg', 118, None, 'Crime, Thriller', 'Michael Fassbender, Tilda Swinton, Charles Parnell', 'David Fincher')\n",
            "(49, 'Spider-Man: Across the Spider-Verse', 2023, 'https://www.digitaltrends.com/wp-content/uploads/2023/06/8Vt6mWEReuy4Of61Lnj5Xj704m8.jpg?p=1#038;p=1.jpg', 140, None, 'Animation, Action, Adventure', 'Shameik Moore, Hailee Steinfeld, Jason Schwartzman', 'Joaquim Dos Santos, Justin K. Thompson, Kemp Powers')\n",
            "(50, 'No Hard Feelings', 2023, 'https://www.digitaltrends.com/wp-content/uploads/2023/10/gD72DhJ7NbfxvtxGiAzLaa0xaoj.jpg?p=1#038;p=1.jpg', 104, None, 'Comedy, Romance', 'Jennifer Lawrence, Andrew Barth Feldman, Laura Benanti', 'Gene Stupnitsky')\n",
            "(51, 'Scream VI', 2023, 'https://www.digitaltrends.com/wp-content/uploads/2025/01/wDWwtvkRRlgTiUr6TyLSMX8FCuZ.jpg?p=1#038;p=1.jpg', 123, '6.4/10', 'Horror, Crime, Thriller', 'Melissa Barrera, Jenna Ortega, Jasmin Savoy Brown', 'Tyler Gillett, Matt Bettinelli-Olpin')\n",
            "(52, 'Saturday Night', 2024, 'https://www.digitaltrends.com/wp-content/uploads/2025/01/oCf5O6uxooTvRwKVnLHwGqZUifq.jpg?p=1#038;p=1.jpg', 109, '7.0/10', 'Comedy, Drama', 'Gabriel LaBelle, Rachel Sennott, Cory Michael Smith', 'Jason Reitman')\n",
            "(53, 'Back in Action', 2025, 'https://www.digitaltrends.com/wp-content/uploads/2025/01/zDdwuxEr6GTtl0o7PbVvVo4ht5i.jpg?p=1#038;p=1.jpg', 114, '7.3/10', 'Action, Comedy', 'Cameron Diaz, Jamie Foxx, McKenna Roberts', 'Seth Gordon')\n",
            "(54, 'Hereditary', 2018, 'https://www.digitaltrends.com/wp-content/uploads/2023/04/p9fmuz2Oj3HtEJEqbIwkFGUhVXD.jpg?p=1#038;p=1.jpg', 128, '7.5/10', 'Horror, Mystery, Thriller', 'Toni Collette, Alex Wolff, Gabriel Byrne', 'Ari Aster')\n",
            "(55, 'Furiosa: A Mad Max Saga', 2024, 'https://www.digitaltrends.com/wp-content/uploads/2024/08/iADOJ8Zymht2JPMoy3R7xceZprc.jpg?p=1#038;p=1.jpg', 149, '6.9/10', 'Action, Science Fiction, Adventure', 'Anya Taylor-Joy, Chris Hemsworth, Tom Burke', 'George Miller')\n",
            "(56, 'In the Heart of the Sea', 2015, 'https://www.digitaltrends.com/wp-content/uploads/2025/01/weVvNPfk6FM9vBg3BXtRtNAmiYM.jpg?p=1#038;p=1.jpg', 122, '8.7/10', 'Thriller, Drama, Adventure, Action, History', 'Chris Hemsworth, Benjamin Walker, Cillian Murphy', 'Ron Howard')\n",
            "(57, 'Interstellar', 2014, 'https://www.digitaltrends.com/wp-content/uploads/2022/10/gEU2QniE6E77NI6lCU6MxlNBvIx.jpg?p=1#038;p=1.jpg', 169, '7.9/10', 'Adventure, Drama, Science Fiction', 'Matthew McConaughey, Anne Hathaway, Michael Caine', 'Christopher Nolan')\n",
            "(58, 'Wallace & Gromit: Vengeance Most Fowl', 2024, 'https://www.digitaltrends.com/wp-content/uploads/2025/01/6BxK38ehxuX2dJmZIMpJcVNbYks.jpg?p=1#038;p=1.jpg', 79, '6.1/10', 'Animation, Comedy, Family', 'Ben Whitehead, Reece Shearsmith, Peter Kay', 'Nick Park, Merlin Crossingham')\n",
            "(59, 'Godzilla x Kong: The New Empire', 2024, 'https://www.digitaltrends.com/wp-content/uploads/2024/07/z1p34vh7dEOnLDmyCrlUVLuoDzd.jpg?p=1#038;p=1.jpg', 115, '6.8/10', 'Action, Adventure, Science Fiction', 'Rebecca Hall, Brian Tyree Henry, Dan Stevens', 'Adam Wingard')\n",
            "(60, 'Barbie', 2023, 'https://www.digitaltrends.com/wp-content/uploads/2023/12/iuFNMS8U5cb6xfzi51Dbkovj7vM.jpg?p=1#038;p=1.jpg', 114, '5.6/10', 'Comedy, Adventure', 'Margot Robbie, Ryan Gosling, America Ferrera', 'Greta Gerwig')\n",
            "(61, 'The Six Triple Eight', 2024, 'https://www.digitaltrends.com/wp-content/uploads/2024/12/2N8VL4jePIGpAupSqVcGiPekIf4.jpg?p=1#038;p=1.jpg', 127, '6.5/10', 'Drama, War', 'Kerry Washington, Sam Waterston, Susan Sarandon', 'Tyler Perry')\n",
            "(62, 'It Ends with Us', 2024, 'https://www.digitaltrends.com/wp-content/uploads/2024/12/cSMdFWmajaX4oUMLx7HEDI84GkP.jpg?p=1#038;p=1.jpg', 131, '5.1/10', 'Romance, Drama', 'Blake Lively, Justin Baldoni, Jenny Slate', 'Justin Baldoni')\n",
            "(63, 'Carry-On', 2024, 'https://www.digitaltrends.com/wp-content/uploads/2024/12/jXLtHkDo1tRBxnxALTPd9AiH2bH.jpg?p=1#038;p=1.jpg', 119, '8.1/10', 'Thriller, Mystery, Action', 'Taron Egerton, Jason Bateman, Sofia Carson', 'Jaume Collet-Serra')\n",
            "(64, 'Afraid', 2024, 'https://www.digitaltrends.com/wp-content/uploads/2024/12/gUREuXCnJLVHsvKXDH9fgIcfM6e.jpg?p=1#038;p=1.jpg', 84, '5.8/10', 'Horror, Science Fiction, Thriller', 'John Cho, Katherine Waterston, Keith Carradine', 'Chris Weitz')\n",
            "(65, 'Million Dollar Baby', 2004, 'https://www.digitaltrends.com/wp-content/uploads/2024/11/jcfEqKdWF1zeyvECPqp3mkWLct2.jpg?p=1#038;p=1.jpg', 132, '6.5/10', 'Drama', 'Clint Eastwood, Hilary Swank, Morgan Freeman', 'Clint Eastwood')\n",
            "(66, 'Spellbound', 2024, 'https://www.digitaltrends.com/wp-content/uploads/2024/11/xFSIygDiX70Esp9dheCgGX0Nj77.jpg?p=1#038;p=1.jpg', 111, '7.6/10', 'Animation, Fantasy, Family, Adventure, Comedy', 'Rachel Zegler, Miguel Bernardeau, Giovanna Bush', 'Vicky Jenson')\n",
            "(67, 'Rob Peace', 2024, 'https://www.digitaltrends.com/wp-content/uploads/2024/11/1BwKbTidW5QaEKb1pVY3p4u9cVg.jpg?p=1#038;p=1.jpg', 120, '7.3/10', 'Drama, History', 'Jay Will, Mary J. Blige, Chiwetel Ejiofor', 'Chiwetel Ejiofor')\n",
            "(68, 'The Whale', 2022, 'https://www.digitaltrends.com/wp-content/uploads/2024/11/jQ0gylJMxWSL490sy0RrPj1Lj7e.jpg?p=1#038;p=1.jpg', 117, '6.1/10', 'Drama', 'Brendan Fraser, Sadie Sink, Ty Simpkins', 'Darren Aronofsky')\n",
            "(69, 'Fast Five', 2011, 'https://www.digitaltrends.com/wp-content/uploads/2023/03/gEfQjjQwY7fh5bI4GlG0RrBu7Pz.jpg?p=1#038;p=1.jpg', 130, '7.0/10', 'Action, Thriller, Crime', 'Vin Diesel, Paul Walker, Dwayne Johnson', 'Justin Lin')\n",
            "(70, 'The Lost City', 2022, 'https://www.digitaltrends.com/wp-content/uploads/2022/08/neMZH82Stu91d3iqvLdNQfqPPyl.jpg?p=1#038;p=1.jpg', 112, '6.3/10', 'Action, Adventure, Comedy', 'Sandra Bullock, Channing Tatum, Daniel Radcliffe', 'Aaron Nee, Adam Nee')\n",
            "(71, 'Oblivion', 2013, 'https://www.digitaltrends.com/wp-content/uploads/2024/11/eO3r38fwnhb58M1YgcjQBd3VNcp.jpg?p=1#038;p=1.jpg', 124, '7.2/10', 'Action, Science Fiction, Adventure, Mystery', 'Tom Cruise, Morgan Freeman, Olga Kurylenko', 'Joseph Kosinski')\n",
            "(72, 'Kung Fu Panda 4', 2024, 'https://www.digitaltrends.com/wp-content/uploads/2024/06/kDp1vUBnMpe8ak4rjgl3cLELqjU.jpg?p=1#038;p=1.jpg', 94, '6.8/10', 'Animation, Family, Fantasy, Action', 'Jack Black, Awkwafina, Viola Davis', 'Mike Mitchell')\n",
            "(73, 'A Quiet Place Part II', 2021, 'https://www.digitaltrends.com/wp-content/uploads/2022/06/4q2hz2m8hubgvijz8Ez0T2Os2Yv.jpg?p=1#038;p=1.jpg', 96, '6.6/10', 'Science Fiction, Thriller, Horror', 'Emily Blunt, John Krasinski, Millicent Simmonds', 'John Krasinski')\n",
            "(74, 'Woman of the Hour', 2024, 'https://www.digitaltrends.com/wp-content/uploads/2024/10/2jMxTIXOTyLLg6xTVrgK5opRDNv.jpg?p=1#038;p=1.jpg', 95, '6.3/10', 'Drama, Crime, Thriller', 'Anna Kendrick, Daniel Zovatto, Tony Hale', 'Anna Kendrick')\n",
            "(75, 'Bad Boys: Ride or Die', 2024, 'https://www.digitaltrends.com/wp-content/uploads/2024/10/oGythE98MYleE6mZlGs5oBGkux1.jpg?p=1#038;p=1.jpg', 115, '5.7/10', 'Action, Crime, Thriller, Comedy', 'Will Smith, Martin Lawrence, Vanessa Hudgens', 'Adil El Arbi, Bilall Fallah')\n",
            "(76, 'Scream', 2022, 'https://www.digitaltrends.com/wp-content/uploads/2024/10/1m3W6cpgwuIyjtg5nSnPx7yFkXW.jpg?p=1#038;p=1.jpg', 114, '7.0/10', 'Horror, Mystery, Thriller', 'Melissa Barrera, Jenna Ortega, Mason Gooding', 'Tyler Gillett, Matt Bettinelli-Olpin')\n",
            "(77, 'The Garfield Movie', 2024, 'https://www.digitaltrends.com/wp-content/uploads/2024/09/p6AbOJvMQhBmffd0PIv0u8ghWeY.jpg?p=1#038;p=1.jpg', 101, '5.1/10', 'Animation, Comedy, Family, Adventure, Action', 'Chris Pratt, Samuel L. Jackson, Hannah Waddingham', 'Mark Dindal')\n",
            "(78, 'Rebel Ridge', 2024, 'https://www.digitaltrends.com/wp-content/uploads/2024/09/xEt2GSz9z5rSVpIHMiGdtf0czyf.jpg?p=1#038;p=1.jpg', 132, '5.5/10', 'Crime, Action, Thriller', 'Aaron Pierre, Don Johnson, AnnaSophia Robb', 'Jeremy Saulnier')\n",
            "(79, 'The Deliverance', 2024, 'https://www.digitaltrends.com/wp-content/uploads/2024/08/og1FteMFRInoQnlZeWqEn8XpXHh.jpg?p=1#038;p=1.jpg', 112, '6.6/10', 'Horror, Thriller', 'Andra Day, Glenn Close, Anthony B. Jenkins', 'Lee Daniels')\n",
            "(80, 'The Union', 2024, 'https://www.digitaltrends.com/wp-content/uploads/2024/08/d9CTnTHip1RbVi2OQbA2LJJQAGI.jpg?p=1#038;p=1.jpg', 109, '7.0/10', 'Action, Comedy', 'Mark Wahlberg, Halle Berry, J.K. Simmons', 'Julian Farino')\n",
            "(81, 'Migration', 2023, 'https://www.digitaltrends.com/wp-content/uploads/2024/04/ldfCF9RhR40mppkzmftxapaHeTo.jpg?p=1#038;p=1.jpg', 83, '6.1/10', 'Animation, Action, Adventure, Comedy, Family', 'Kumail Nanjiani, Elizabeth Banks, Caspar Jennings', 'Benjamin Renner')\n",
            "(82, 'Pearl', 2022, 'https://www.digitaltrends.com/wp-content/uploads/2023/09/ulBLIBqvdnf4H6JBt0OpMCU1ECn.jpg?p=1#038;p=1.jpg', 102, '7.1/10', 'Horror, Drama', 'Mia Goth, David Corenswet, Tandi Wright', 'Ti West')\n",
            "(83, 'Ghostbusters: Frozen Empire', 2024, 'https://www.digitaltrends.com/wp-content/uploads/2024/07/e1J2oNzSBdou01sUvriVuoYp0pJ.jpg?p=1#038;p=1.jpg', 115, '6.7/10', 'Fantasy, Adventure, Comedy', 'Mckenna Grace, Paul Rudd, Carrie Coon', 'Gil Kenan')\n",
            "(84, 'Bone Tomahawk', 2015, 'https://www.digitaltrends.com/wp-content/uploads/2024/01/4MmTHpn2Y8emqvBgvOjufImUmKZ.jpg?p=1#038;p=1.jpg', 133, '7.4/10', 'Western, Horror, Drama', 'Kurt Russell, Patrick Wilson, Richard Jenkins', 'S. Craig Zahler')\n",
            "(85, 'Beverly Hills Cop: Axel F', 2024, 'https://www.digitaltrends.com/wp-content/uploads/2024/07/zszRKfzjM5jltiq8rk6rasKVpUv.jpg?p=1#038;p=1.jpg', 118, '7.9/10', 'Action, Comedy, Crime', 'Eddie Murphy, Joseph Gordon-Levitt, Taylour Paige', 'Mark Molloy')\n",
            "(86, 'Hit Man', 2024, 'https://www.digitaltrends.com/wp-content/uploads/2024/06/1126gjlBf4hTm9Sgf0ox3LGVEBt.jpg?p=1#038;p=1.jpg', 115, '6.2/10', 'Comedy, Romance, Crime', 'Glen Powell, Adria Arjona, Austin Amelio', 'Richard Linklater')\n",
            "(87, 'Godzilla Minus One', 2023, 'https://www.digitaltrends.com/wp-content/uploads/2024/06/hkxxMIGaiCTmrEArK7J56JTKUlB.jpg?p=1#038;p=1.jpg', 125, '7.5/10', 'Science Fiction, Horror, Action', 'Ryunosuke Kamiki, Minami Hamabe, Yuki Yamada', 'Takashi Yamazaki')\n",
            "(88, 'Anyone But You', 2023, 'https://www.digitaltrends.com/wp-content/uploads/2024/04/5qHoazZiaLe7oFBok7XlUhg96f2.jpg?p=1#038;p=1.jpg', 104, '5.8/10', 'Romance, Comedy', 'Sydney Sweeney, Glen Powell, Mia Artemis', 'Will Gluck')\n",
            "(89, 'Baby Driver', 2017, 'https://www.digitaltrends.com/wp-content/uploads/2022/06/rmnQ9jKW72bHu8uKlMjPIb2VLMI.jpg?p=1#038;p=1.jpg', 113, '5.8/10', 'Action, Crime', 'Ansel Elgort, Kevin Spacey, Lily James', 'Edgar Wright')\n",
            "(90, 'The Wages of Fear', 2024, 'https://www.digitaltrends.com/wp-content/uploads/2024/03/jFK2ZLQUzo9pea0jfMCHDfvWsx7.jpg?p=1#038;p=1.jpg', 104, '6.4/10', 'Action, Thriller', 'Franck Gastambide, Alban Lenoir, Ana Girardot', 'Julien Leclercq')\n",
            "(91, 'Your Lucky Day', 2023, 'https://www.digitaltrends.com/wp-content/uploads/2024/03/oDJ1Jl0vbbrsZd7HAMMmcY3rh7B.jpg?p=1#038;p=1.jpg', 89, '6.9/10', 'Crime, Thriller', 'Angus Cloud, Elliot Knight, Jessica Garza', 'Dan Brown')\n",
            "(92, 'Spaceman', 2024, 'https://www.digitaltrends.com/wp-content/uploads/2024/03/5hnFFOWEchErNVr0wMLWFEob3q1.jpg?p=1#038;p=1.jpg', 108, '6.8/10', 'Science Fiction, Drama', 'Adam Sandler, Paul Dano, Carey Mulligan', 'Johan Renck')\n",
            "(93, 'Thanksgiving', 2023, 'https://www.digitaltrends.com/wp-content/uploads/2024/02/9KRLgkJ9FufHBh6mEj0WCIfOME8.jpg?p=1#038;p=1.jpg', 106, '7.3/10', 'Horror, Mystery, Thriller', 'Patrick Dempsey, Nell Verlaque, Addison Rae', 'Eli Roth')\n",
            "(94, 'Orion and the Dark', 2024, 'https://www.digitaltrends.com/wp-content/uploads/2024/02/uHiXFLMlnl5jBjtfOliapN16yBD.jpg?p=1#038;p=1.jpg', 91, '7.4/10', 'Family, Comedy, Animation, Fantasy', 'Jacob Tremblay, Paul Walter Hauser, Angela Bassett', 'Sean Charmatz')\n",
            "(95, 'Dumb Money', 2023, 'https://www.digitaltrends.com/wp-content/uploads/2024/01/bqs4TeKFbfkcbQbuGAuKYu82tnp.jpg?p=1#038;p=1.jpg', 104, '8.7/10', 'Comedy, Drama, History', 'Paul Dano, Shailene Woodley, America Ferrera', 'Craig Gillespie')\n",
            "(96, 'The Equalizer 3', 2023, 'https://www.digitaltrends.com/wp-content/uploads/2024/01/b0Ej6fnXAP8fK75hlyi2jKqdhHz.jpg?p=1#038;p=1.jpg', 109, '6.4/10', 'Action, Thriller, Crime', 'Denzel Washington, Dakota Fanning, Eugenio Mastrandrea', 'Antoine Fuqua')\n",
            "(97, 'Maestro', 2023, 'https://www.digitaltrends.com/wp-content/uploads/2023/12/kxj7rMco6RNYsVcNwuGAIlfWu64.jpg?p=1#038;p=1.jpg', 129, None, 'Drama, Romance, Music', 'Carey Mulligan, Bradley Cooper, Matt Bomer', 'Bradley Cooper')\n",
            "(98, 'The Killer', 2023, 'https://www.digitaltrends.com/wp-content/uploads/2023/11/e7Jvsry47JJQruuezjU2X1Z6J77.jpg?p=1#038;p=1.jpg', 118, None, 'Crime, Thriller', 'Michael Fassbender, Tilda Swinton, Charles Parnell', 'David Fincher')\n",
            "(99, 'Spider-Man: Across the Spider-Verse', 2023, 'https://www.digitaltrends.com/wp-content/uploads/2023/06/8Vt6mWEReuy4Of61Lnj5Xj704m8.jpg?p=1#038;p=1.jpg', 140, None, 'Animation, Action, Adventure', 'Shameik Moore, Hailee Steinfeld, Jason Schwartzman', 'Joaquim Dos Santos, Justin K. Thompson, Kemp Powers')\n",
            "(100, 'No Hard Feelings', 2023, 'https://www.digitaltrends.com/wp-content/uploads/2023/10/gD72DhJ7NbfxvtxGiAzLaa0xaoj.jpg?p=1#038;p=1.jpg', 104, None, 'Comedy, Romance', 'Jennifer Lawrence, Andrew Barth Feldman, Laura Benanti', 'Gene Stupnitsky')\n"
          ]
        }
      ]
    },
    {
      "cell_type": "markdown",
      "source": [
        "Write a query that selects movies having an IMDB rating higher than 8.5"
      ],
      "metadata": {
        "id": "qaQuUyk8pbMS"
      }
    },
    {
      "cell_type": "code",
      "source": [
        "#Test your Zaka\n",
        "conn = sqlite3.connect('movies.db')\n",
        "cursor = conn.cursor()\n",
        "\n",
        "# Query to select movies with an IMDB rating higher than 8.5\n",
        "cursor.execute('''\n",
        "    SELECT * FROM movies\n",
        "    WHERE CAST(SUBSTR(imdb_rating, 1, INSTR(imdb_rating, '/') - 1) AS REAL) > 8.5\n",
        "''')\n",
        "\n",
        "rows = cursor.fetchall()\n",
        "\n",
        "# Display the movies\n",
        "for row in rows:\n",
        "    print(row)\n",
        "\n",
        "conn.close()\n"
      ],
      "metadata": {
        "id": "U9IDw7VypgGS",
        "outputId": "c5dc092e-4b3c-4c2b-aa6b-ef67e7a5248c",
        "colab": {
          "base_uri": "https://localhost:8080/"
        }
      },
      "execution_count": null,
      "outputs": [
        {
          "output_type": "stream",
          "name": "stdout",
          "text": [
            "(6, 'In the Heart of the Sea', 2015, 'https://www.digitaltrends.com/wp-content/uploads/2025/01/weVvNPfk6FM9vBg3BXtRtNAmiYM.jpg?p=1#038;p=1.jpg', 122, '8.7/10', 'Thriller, Drama, Adventure, Action, History', 'Chris Hemsworth, Benjamin Walker, Cillian Murphy', 'Ron Howard')\n",
            "(45, 'Dumb Money', 2023, 'https://www.digitaltrends.com/wp-content/uploads/2024/01/bqs4TeKFbfkcbQbuGAuKYu82tnp.jpg?p=1#038;p=1.jpg', 104, '8.7/10', 'Comedy, Drama, History', 'Paul Dano, Shailene Woodley, America Ferrera', 'Craig Gillespie')\n",
            "(56, 'In the Heart of the Sea', 2015, 'https://www.digitaltrends.com/wp-content/uploads/2025/01/weVvNPfk6FM9vBg3BXtRtNAmiYM.jpg?p=1#038;p=1.jpg', 122, '8.7/10', 'Thriller, Drama, Adventure, Action, History', 'Chris Hemsworth, Benjamin Walker, Cillian Murphy', 'Ron Howard')\n",
            "(95, 'Dumb Money', 2023, 'https://www.digitaltrends.com/wp-content/uploads/2024/01/bqs4TeKFbfkcbQbuGAuKYu82tnp.jpg?p=1#038;p=1.jpg', 104, '8.7/10', 'Comedy, Drama, History', 'Paul Dano, Shailene Woodley, America Ferrera', 'Craig Gillespie')\n"
          ]
        }
      ]
    },
    {
      "cell_type": "markdown",
      "source": [
        "Write a query that selects only comedy movies"
      ],
      "metadata": {
        "id": "Oe5ze8Qxp6rH"
      }
    },
    {
      "cell_type": "code",
      "source": [
        "#Test your Zaka\n",
        "# Test your Zaka\n",
        "conn = sqlite3.connect('movies.db')\n",
        "cursor = conn.cursor()\n",
        "\n",
        "# Query to select comedy movies and order them by IMDb rating in descending order\n",
        "cursor.execute(\"SELECT * FROM movies WHERE genre LIKE '%Comedy%' ORDER BY imdb_rating DESC\")\n",
        "rows = cursor.fetchall()\n",
        "\n",
        "# Display the comedy movies\n",
        "for row in rows:\n",
        "    print(row)\n",
        "\n",
        "conn.close()\n",
        "\n"
      ],
      "metadata": {
        "id": "GJUtjLgUp9cX",
        "outputId": "ed79424a-3f1b-4d29-80c1-1033842ee0fa",
        "colab": {
          "base_uri": "https://localhost:8080/"
        }
      },
      "execution_count": null,
      "outputs": [
        {
          "output_type": "stream",
          "name": "stdout",
          "text": [
            "(45, 'Dumb Money', 2023, 'https://www.digitaltrends.com/wp-content/uploads/2024/01/bqs4TeKFbfkcbQbuGAuKYu82tnp.jpg?p=1#038;p=1.jpg', 104, '8.7/10', 'Comedy, Drama, History', 'Paul Dano, Shailene Woodley, America Ferrera', 'Craig Gillespie')\n",
            "(95, 'Dumb Money', 2023, 'https://www.digitaltrends.com/wp-content/uploads/2024/01/bqs4TeKFbfkcbQbuGAuKYu82tnp.jpg?p=1#038;p=1.jpg', 104, '8.7/10', 'Comedy, Drama, History', 'Paul Dano, Shailene Woodley, America Ferrera', 'Craig Gillespie')\n",
            "(35, 'Beverly Hills Cop: Axel F', 2024, 'https://www.digitaltrends.com/wp-content/uploads/2024/07/zszRKfzjM5jltiq8rk6rasKVpUv.jpg?p=1#038;p=1.jpg', 118, '7.9/10', 'Action, Comedy, Crime', 'Eddie Murphy, Joseph Gordon-Levitt, Taylour Paige', 'Mark Molloy')\n",
            "(85, 'Beverly Hills Cop: Axel F', 2024, 'https://www.digitaltrends.com/wp-content/uploads/2024/07/zszRKfzjM5jltiq8rk6rasKVpUv.jpg?p=1#038;p=1.jpg', 118, '7.9/10', 'Action, Comedy, Crime', 'Eddie Murphy, Joseph Gordon-Levitt, Taylour Paige', 'Mark Molloy')\n",
            "(16, 'Spellbound', 2024, 'https://www.digitaltrends.com/wp-content/uploads/2024/11/xFSIygDiX70Esp9dheCgGX0Nj77.jpg?p=1#038;p=1.jpg', 111, '7.6/10', 'Animation, Fantasy, Family, Adventure, Comedy', 'Rachel Zegler, Miguel Bernardeau, Giovanna Bush', 'Vicky Jenson')\n",
            "(66, 'Spellbound', 2024, 'https://www.digitaltrends.com/wp-content/uploads/2024/11/xFSIygDiX70Esp9dheCgGX0Nj77.jpg?p=1#038;p=1.jpg', 111, '7.6/10', 'Animation, Fantasy, Family, Adventure, Comedy', 'Rachel Zegler, Miguel Bernardeau, Giovanna Bush', 'Vicky Jenson')\n",
            "(44, 'Orion and the Dark', 2024, 'https://www.digitaltrends.com/wp-content/uploads/2024/02/uHiXFLMlnl5jBjtfOliapN16yBD.jpg?p=1#038;p=1.jpg', 91, '7.4/10', 'Family, Comedy, Animation, Fantasy', 'Jacob Tremblay, Paul Walter Hauser, Angela Bassett', 'Sean Charmatz')\n",
            "(94, 'Orion and the Dark', 2024, 'https://www.digitaltrends.com/wp-content/uploads/2024/02/uHiXFLMlnl5jBjtfOliapN16yBD.jpg?p=1#038;p=1.jpg', 91, '7.4/10', 'Family, Comedy, Animation, Fantasy', 'Jacob Tremblay, Paul Walter Hauser, Angela Bassett', 'Sean Charmatz')\n",
            "(3, 'Back in Action', 2025, 'https://www.digitaltrends.com/wp-content/uploads/2025/01/zDdwuxEr6GTtl0o7PbVvVo4ht5i.jpg?p=1#038;p=1.jpg', 114, '7.3/10', 'Action, Comedy', 'Cameron Diaz, Jamie Foxx, McKenna Roberts', 'Seth Gordon')\n",
            "(53, 'Back in Action', 2025, 'https://www.digitaltrends.com/wp-content/uploads/2025/01/zDdwuxEr6GTtl0o7PbVvVo4ht5i.jpg?p=1#038;p=1.jpg', 114, '7.3/10', 'Action, Comedy', 'Cameron Diaz, Jamie Foxx, McKenna Roberts', 'Seth Gordon')\n",
            "(2, 'Saturday Night', 2024, 'https://www.digitaltrends.com/wp-content/uploads/2025/01/oCf5O6uxooTvRwKVnLHwGqZUifq.jpg?p=1#038;p=1.jpg', 109, '7.0/10', 'Comedy, Drama', 'Gabriel LaBelle, Rachel Sennott, Cory Michael Smith', 'Jason Reitman')\n",
            "(30, 'The Union', 2024, 'https://www.digitaltrends.com/wp-content/uploads/2024/08/d9CTnTHip1RbVi2OQbA2LJJQAGI.jpg?p=1#038;p=1.jpg', 109, '7.0/10', 'Action, Comedy', 'Mark Wahlberg, Halle Berry, J.K. Simmons', 'Julian Farino')\n",
            "(52, 'Saturday Night', 2024, 'https://www.digitaltrends.com/wp-content/uploads/2025/01/oCf5O6uxooTvRwKVnLHwGqZUifq.jpg?p=1#038;p=1.jpg', 109, '7.0/10', 'Comedy, Drama', 'Gabriel LaBelle, Rachel Sennott, Cory Michael Smith', 'Jason Reitman')\n",
            "(80, 'The Union', 2024, 'https://www.digitaltrends.com/wp-content/uploads/2024/08/d9CTnTHip1RbVi2OQbA2LJJQAGI.jpg?p=1#038;p=1.jpg', 109, '7.0/10', 'Action, Comedy', 'Mark Wahlberg, Halle Berry, J.K. Simmons', 'Julian Farino')\n",
            "(33, 'Ghostbusters: Frozen Empire', 2024, 'https://www.digitaltrends.com/wp-content/uploads/2024/07/e1J2oNzSBdou01sUvriVuoYp0pJ.jpg?p=1#038;p=1.jpg', 115, '6.7/10', 'Fantasy, Adventure, Comedy', 'Mckenna Grace, Paul Rudd, Carrie Coon', 'Gil Kenan')\n",
            "(83, 'Ghostbusters: Frozen Empire', 2024, 'https://www.digitaltrends.com/wp-content/uploads/2024/07/e1J2oNzSBdou01sUvriVuoYp0pJ.jpg?p=1#038;p=1.jpg', 115, '6.7/10', 'Fantasy, Adventure, Comedy', 'Mckenna Grace, Paul Rudd, Carrie Coon', 'Gil Kenan')\n",
            "(20, 'The Lost City', 2022, 'https://www.digitaltrends.com/wp-content/uploads/2022/08/neMZH82Stu91d3iqvLdNQfqPPyl.jpg?p=1#038;p=1.jpg', 112, '6.3/10', 'Action, Adventure, Comedy', 'Sandra Bullock, Channing Tatum, Daniel Radcliffe', 'Aaron Nee, Adam Nee')\n",
            "(70, 'The Lost City', 2022, 'https://www.digitaltrends.com/wp-content/uploads/2022/08/neMZH82Stu91d3iqvLdNQfqPPyl.jpg?p=1#038;p=1.jpg', 112, '6.3/10', 'Action, Adventure, Comedy', 'Sandra Bullock, Channing Tatum, Daniel Radcliffe', 'Aaron Nee, Adam Nee')\n",
            "(36, 'Hit Man', 2024, 'https://www.digitaltrends.com/wp-content/uploads/2024/06/1126gjlBf4hTm9Sgf0ox3LGVEBt.jpg?p=1#038;p=1.jpg', 115, '6.2/10', 'Comedy, Romance, Crime', 'Glen Powell, Adria Arjona, Austin Amelio', 'Richard Linklater')\n",
            "(86, 'Hit Man', 2024, 'https://www.digitaltrends.com/wp-content/uploads/2024/06/1126gjlBf4hTm9Sgf0ox3LGVEBt.jpg?p=1#038;p=1.jpg', 115, '6.2/10', 'Comedy, Romance, Crime', 'Glen Powell, Adria Arjona, Austin Amelio', 'Richard Linklater')\n",
            "(8, 'Wallace & Gromit: Vengeance Most Fowl', 2024, 'https://www.digitaltrends.com/wp-content/uploads/2025/01/6BxK38ehxuX2dJmZIMpJcVNbYks.jpg?p=1#038;p=1.jpg', 79, '6.1/10', 'Animation, Comedy, Family', 'Ben Whitehead, Reece Shearsmith, Peter Kay', 'Nick Park, Merlin Crossingham')\n",
            "(31, 'Migration', 2023, 'https://www.digitaltrends.com/wp-content/uploads/2024/04/ldfCF9RhR40mppkzmftxapaHeTo.jpg?p=1#038;p=1.jpg', 83, '6.1/10', 'Animation, Action, Adventure, Comedy, Family', 'Kumail Nanjiani, Elizabeth Banks, Caspar Jennings', 'Benjamin Renner')\n",
            "(58, 'Wallace & Gromit: Vengeance Most Fowl', 2024, 'https://www.digitaltrends.com/wp-content/uploads/2025/01/6BxK38ehxuX2dJmZIMpJcVNbYks.jpg?p=1#038;p=1.jpg', 79, '6.1/10', 'Animation, Comedy, Family', 'Ben Whitehead, Reece Shearsmith, Peter Kay', 'Nick Park, Merlin Crossingham')\n",
            "(81, 'Migration', 2023, 'https://www.digitaltrends.com/wp-content/uploads/2024/04/ldfCF9RhR40mppkzmftxapaHeTo.jpg?p=1#038;p=1.jpg', 83, '6.1/10', 'Animation, Action, Adventure, Comedy, Family', 'Kumail Nanjiani, Elizabeth Banks, Caspar Jennings', 'Benjamin Renner')\n",
            "(38, 'Anyone But You', 2023, 'https://www.digitaltrends.com/wp-content/uploads/2024/04/5qHoazZiaLe7oFBok7XlUhg96f2.jpg?p=1#038;p=1.jpg', 104, '5.8/10', 'Romance, Comedy', 'Sydney Sweeney, Glen Powell, Mia Artemis', 'Will Gluck')\n",
            "(88, 'Anyone But You', 2023, 'https://www.digitaltrends.com/wp-content/uploads/2024/04/5qHoazZiaLe7oFBok7XlUhg96f2.jpg?p=1#038;p=1.jpg', 104, '5.8/10', 'Romance, Comedy', 'Sydney Sweeney, Glen Powell, Mia Artemis', 'Will Gluck')\n",
            "(25, 'Bad Boys: Ride or Die', 2024, 'https://www.digitaltrends.com/wp-content/uploads/2024/10/oGythE98MYleE6mZlGs5oBGkux1.jpg?p=1#038;p=1.jpg', 115, '5.7/10', 'Action, Crime, Thriller, Comedy', 'Will Smith, Martin Lawrence, Vanessa Hudgens', 'Adil El Arbi, Bilall Fallah')\n",
            "(75, 'Bad Boys: Ride or Die', 2024, 'https://www.digitaltrends.com/wp-content/uploads/2024/10/oGythE98MYleE6mZlGs5oBGkux1.jpg?p=1#038;p=1.jpg', 115, '5.7/10', 'Action, Crime, Thriller, Comedy', 'Will Smith, Martin Lawrence, Vanessa Hudgens', 'Adil El Arbi, Bilall Fallah')\n",
            "(10, 'Barbie', 2023, 'https://www.digitaltrends.com/wp-content/uploads/2023/12/iuFNMS8U5cb6xfzi51Dbkovj7vM.jpg?p=1#038;p=1.jpg', 114, '5.6/10', 'Comedy, Adventure', 'Margot Robbie, Ryan Gosling, America Ferrera', 'Greta Gerwig')\n",
            "(60, 'Barbie', 2023, 'https://www.digitaltrends.com/wp-content/uploads/2023/12/iuFNMS8U5cb6xfzi51Dbkovj7vM.jpg?p=1#038;p=1.jpg', 114, '5.6/10', 'Comedy, Adventure', 'Margot Robbie, Ryan Gosling, America Ferrera', 'Greta Gerwig')\n",
            "(27, 'The Garfield Movie', 2024, 'https://www.digitaltrends.com/wp-content/uploads/2024/09/p6AbOJvMQhBmffd0PIv0u8ghWeY.jpg?p=1#038;p=1.jpg', 101, '5.1/10', 'Animation, Comedy, Family, Adventure, Action', 'Chris Pratt, Samuel L. Jackson, Hannah Waddingham', 'Mark Dindal')\n",
            "(77, 'The Garfield Movie', 2024, 'https://www.digitaltrends.com/wp-content/uploads/2024/09/p6AbOJvMQhBmffd0PIv0u8ghWeY.jpg?p=1#038;p=1.jpg', 101, '5.1/10', 'Animation, Comedy, Family, Adventure, Action', 'Chris Pratt, Samuel L. Jackson, Hannah Waddingham', 'Mark Dindal')\n",
            "(50, 'No Hard Feelings', 2023, 'https://www.digitaltrends.com/wp-content/uploads/2023/10/gD72DhJ7NbfxvtxGiAzLaa0xaoj.jpg?p=1#038;p=1.jpg', 104, None, 'Comedy, Romance', 'Jennifer Lawrence, Andrew Barth Feldman, Laura Benanti', 'Gene Stupnitsky')\n",
            "(100, 'No Hard Feelings', 2023, 'https://www.digitaltrends.com/wp-content/uploads/2023/10/gD72DhJ7NbfxvtxGiAzLaa0xaoj.jpg?p=1#038;p=1.jpg', 104, None, 'Comedy, Romance', 'Jennifer Lawrence, Andrew Barth Feldman, Laura Benanti', 'Gene Stupnitsky')\n"
          ]
        }
      ]
    },
    {
      "cell_type": "markdown",
      "source": [
        "Write a query that selects comedy or action movies shorter than 120 minutes."
      ],
      "metadata": {
        "id": "bNECqCzZCk2C"
      }
    },
    {
      "cell_type": "code",
      "source": [
        "#Test your Zaka\n",
        "conn = sqlite3.connect('movies.db')\n",
        "cursor = conn.cursor()\n",
        "\n",
        "# Query to select comedy or action movies shorter than 120 minutes\n",
        "cursor.execute('''\n",
        "    SELECT * FROM movies\n",
        "    WHERE (genre LIKE '%Comedy%' OR genre LIKE '%Action%'\n",
        "    AND duration < 120)\n",
        "''')\n",
        "\n",
        "rows = cursor.fetchall()\n",
        "\n",
        "# Display the results\n",
        "for row in rows:\n",
        "    print(row)\n",
        "\n",
        "conn.close()\n"
      ],
      "metadata": {
        "id": "9CM_xIx9Cr9Z",
        "outputId": "2d8eb349-269b-4334-f5cf-2a94e8710ae4",
        "colab": {
          "base_uri": "https://localhost:8080/"
        }
      },
      "execution_count": null,
      "outputs": [
        {
          "output_type": "stream",
          "name": "stdout",
          "text": [
            "(2, 'Saturday Night', 2024, 'https://www.digitaltrends.com/wp-content/uploads/2025/01/oCf5O6uxooTvRwKVnLHwGqZUifq.jpg?p=1#038;p=1.jpg', 109, '7.0/10', 'Comedy, Drama', 'Gabriel LaBelle, Rachel Sennott, Cory Michael Smith', 'Jason Reitman')\n",
            "(3, 'Back in Action', 2025, 'https://www.digitaltrends.com/wp-content/uploads/2025/01/zDdwuxEr6GTtl0o7PbVvVo4ht5i.jpg?p=1#038;p=1.jpg', 114, '7.3/10', 'Action, Comedy', 'Cameron Diaz, Jamie Foxx, McKenna Roberts', 'Seth Gordon')\n",
            "(8, 'Wallace & Gromit: Vengeance Most Fowl', 2024, 'https://www.digitaltrends.com/wp-content/uploads/2025/01/6BxK38ehxuX2dJmZIMpJcVNbYks.jpg?p=1#038;p=1.jpg', 79, '6.1/10', 'Animation, Comedy, Family', 'Ben Whitehead, Reece Shearsmith, Peter Kay', 'Nick Park, Merlin Crossingham')\n",
            "(9, 'Godzilla x Kong: The New Empire', 2024, 'https://www.digitaltrends.com/wp-content/uploads/2024/07/z1p34vh7dEOnLDmyCrlUVLuoDzd.jpg?p=1#038;p=1.jpg', 115, '6.8/10', 'Action, Adventure, Science Fiction', 'Rebecca Hall, Brian Tyree Henry, Dan Stevens', 'Adam Wingard')\n",
            "(10, 'Barbie', 2023, 'https://www.digitaltrends.com/wp-content/uploads/2023/12/iuFNMS8U5cb6xfzi51Dbkovj7vM.jpg?p=1#038;p=1.jpg', 114, '5.6/10', 'Comedy, Adventure', 'Margot Robbie, Ryan Gosling, America Ferrera', 'Greta Gerwig')\n",
            "(13, 'Carry-On', 2024, 'https://www.digitaltrends.com/wp-content/uploads/2024/12/jXLtHkDo1tRBxnxALTPd9AiH2bH.jpg?p=1#038;p=1.jpg', 119, '8.1/10', 'Thriller, Mystery, Action', 'Taron Egerton, Jason Bateman, Sofia Carson', 'Jaume Collet-Serra')\n",
            "(16, 'Spellbound', 2024, 'https://www.digitaltrends.com/wp-content/uploads/2024/11/xFSIygDiX70Esp9dheCgGX0Nj77.jpg?p=1#038;p=1.jpg', 111, '7.6/10', 'Animation, Fantasy, Family, Adventure, Comedy', 'Rachel Zegler, Miguel Bernardeau, Giovanna Bush', 'Vicky Jenson')\n",
            "(20, 'The Lost City', 2022, 'https://www.digitaltrends.com/wp-content/uploads/2022/08/neMZH82Stu91d3iqvLdNQfqPPyl.jpg?p=1#038;p=1.jpg', 112, '6.3/10', 'Action, Adventure, Comedy', 'Sandra Bullock, Channing Tatum, Daniel Radcliffe', 'Aaron Nee, Adam Nee')\n",
            "(22, 'Kung Fu Panda 4', 2024, 'https://www.digitaltrends.com/wp-content/uploads/2024/06/kDp1vUBnMpe8ak4rjgl3cLELqjU.jpg?p=1#038;p=1.jpg', 94, '6.8/10', 'Animation, Family, Fantasy, Action', 'Jack Black, Awkwafina, Viola Davis', 'Mike Mitchell')\n",
            "(25, 'Bad Boys: Ride or Die', 2024, 'https://www.digitaltrends.com/wp-content/uploads/2024/10/oGythE98MYleE6mZlGs5oBGkux1.jpg?p=1#038;p=1.jpg', 115, '5.7/10', 'Action, Crime, Thriller, Comedy', 'Will Smith, Martin Lawrence, Vanessa Hudgens', 'Adil El Arbi, Bilall Fallah')\n",
            "(27, 'The Garfield Movie', 2024, 'https://www.digitaltrends.com/wp-content/uploads/2024/09/p6AbOJvMQhBmffd0PIv0u8ghWeY.jpg?p=1#038;p=1.jpg', 101, '5.1/10', 'Animation, Comedy, Family, Adventure, Action', 'Chris Pratt, Samuel L. Jackson, Hannah Waddingham', 'Mark Dindal')\n",
            "(30, 'The Union', 2024, 'https://www.digitaltrends.com/wp-content/uploads/2024/08/d9CTnTHip1RbVi2OQbA2LJJQAGI.jpg?p=1#038;p=1.jpg', 109, '7.0/10', 'Action, Comedy', 'Mark Wahlberg, Halle Berry, J.K. Simmons', 'Julian Farino')\n",
            "(31, 'Migration', 2023, 'https://www.digitaltrends.com/wp-content/uploads/2024/04/ldfCF9RhR40mppkzmftxapaHeTo.jpg?p=1#038;p=1.jpg', 83, '6.1/10', 'Animation, Action, Adventure, Comedy, Family', 'Kumail Nanjiani, Elizabeth Banks, Caspar Jennings', 'Benjamin Renner')\n",
            "(33, 'Ghostbusters: Frozen Empire', 2024, 'https://www.digitaltrends.com/wp-content/uploads/2024/07/e1J2oNzSBdou01sUvriVuoYp0pJ.jpg?p=1#038;p=1.jpg', 115, '6.7/10', 'Fantasy, Adventure, Comedy', 'Mckenna Grace, Paul Rudd, Carrie Coon', 'Gil Kenan')\n",
            "(35, 'Beverly Hills Cop: Axel F', 2024, 'https://www.digitaltrends.com/wp-content/uploads/2024/07/zszRKfzjM5jltiq8rk6rasKVpUv.jpg?p=1#038;p=1.jpg', 118, '7.9/10', 'Action, Comedy, Crime', 'Eddie Murphy, Joseph Gordon-Levitt, Taylour Paige', 'Mark Molloy')\n",
            "(36, 'Hit Man', 2024, 'https://www.digitaltrends.com/wp-content/uploads/2024/06/1126gjlBf4hTm9Sgf0ox3LGVEBt.jpg?p=1#038;p=1.jpg', 115, '6.2/10', 'Comedy, Romance, Crime', 'Glen Powell, Adria Arjona, Austin Amelio', 'Richard Linklater')\n",
            "(38, 'Anyone But You', 2023, 'https://www.digitaltrends.com/wp-content/uploads/2024/04/5qHoazZiaLe7oFBok7XlUhg96f2.jpg?p=1#038;p=1.jpg', 104, '5.8/10', 'Romance, Comedy', 'Sydney Sweeney, Glen Powell, Mia Artemis', 'Will Gluck')\n",
            "(39, 'Baby Driver', 2017, 'https://www.digitaltrends.com/wp-content/uploads/2022/06/rmnQ9jKW72bHu8uKlMjPIb2VLMI.jpg?p=1#038;p=1.jpg', 113, '5.8/10', 'Action, Crime', 'Ansel Elgort, Kevin Spacey, Lily James', 'Edgar Wright')\n",
            "(40, 'The Wages of Fear', 2024, 'https://www.digitaltrends.com/wp-content/uploads/2024/03/jFK2ZLQUzo9pea0jfMCHDfvWsx7.jpg?p=1#038;p=1.jpg', 104, '6.4/10', 'Action, Thriller', 'Franck Gastambide, Alban Lenoir, Ana Girardot', 'Julien Leclercq')\n",
            "(44, 'Orion and the Dark', 2024, 'https://www.digitaltrends.com/wp-content/uploads/2024/02/uHiXFLMlnl5jBjtfOliapN16yBD.jpg?p=1#038;p=1.jpg', 91, '7.4/10', 'Family, Comedy, Animation, Fantasy', 'Jacob Tremblay, Paul Walter Hauser, Angela Bassett', 'Sean Charmatz')\n",
            "(45, 'Dumb Money', 2023, 'https://www.digitaltrends.com/wp-content/uploads/2024/01/bqs4TeKFbfkcbQbuGAuKYu82tnp.jpg?p=1#038;p=1.jpg', 104, '8.7/10', 'Comedy, Drama, History', 'Paul Dano, Shailene Woodley, America Ferrera', 'Craig Gillespie')\n",
            "(46, 'The Equalizer 3', 2023, 'https://www.digitaltrends.com/wp-content/uploads/2024/01/b0Ej6fnXAP8fK75hlyi2jKqdhHz.jpg?p=1#038;p=1.jpg', 109, '6.4/10', 'Action, Thriller, Crime', 'Denzel Washington, Dakota Fanning, Eugenio Mastrandrea', 'Antoine Fuqua')\n",
            "(50, 'No Hard Feelings', 2023, 'https://www.digitaltrends.com/wp-content/uploads/2023/10/gD72DhJ7NbfxvtxGiAzLaa0xaoj.jpg?p=1#038;p=1.jpg', 104, None, 'Comedy, Romance', 'Jennifer Lawrence, Andrew Barth Feldman, Laura Benanti', 'Gene Stupnitsky')\n",
            "(52, 'Saturday Night', 2024, 'https://www.digitaltrends.com/wp-content/uploads/2025/01/oCf5O6uxooTvRwKVnLHwGqZUifq.jpg?p=1#038;p=1.jpg', 109, '7.0/10', 'Comedy, Drama', 'Gabriel LaBelle, Rachel Sennott, Cory Michael Smith', 'Jason Reitman')\n",
            "(53, 'Back in Action', 2025, 'https://www.digitaltrends.com/wp-content/uploads/2025/01/zDdwuxEr6GTtl0o7PbVvVo4ht5i.jpg?p=1#038;p=1.jpg', 114, '7.3/10', 'Action, Comedy', 'Cameron Diaz, Jamie Foxx, McKenna Roberts', 'Seth Gordon')\n",
            "(58, 'Wallace & Gromit: Vengeance Most Fowl', 2024, 'https://www.digitaltrends.com/wp-content/uploads/2025/01/6BxK38ehxuX2dJmZIMpJcVNbYks.jpg?p=1#038;p=1.jpg', 79, '6.1/10', 'Animation, Comedy, Family', 'Ben Whitehead, Reece Shearsmith, Peter Kay', 'Nick Park, Merlin Crossingham')\n",
            "(59, 'Godzilla x Kong: The New Empire', 2024, 'https://www.digitaltrends.com/wp-content/uploads/2024/07/z1p34vh7dEOnLDmyCrlUVLuoDzd.jpg?p=1#038;p=1.jpg', 115, '6.8/10', 'Action, Adventure, Science Fiction', 'Rebecca Hall, Brian Tyree Henry, Dan Stevens', 'Adam Wingard')\n",
            "(60, 'Barbie', 2023, 'https://www.digitaltrends.com/wp-content/uploads/2023/12/iuFNMS8U5cb6xfzi51Dbkovj7vM.jpg?p=1#038;p=1.jpg', 114, '5.6/10', 'Comedy, Adventure', 'Margot Robbie, Ryan Gosling, America Ferrera', 'Greta Gerwig')\n",
            "(63, 'Carry-On', 2024, 'https://www.digitaltrends.com/wp-content/uploads/2024/12/jXLtHkDo1tRBxnxALTPd9AiH2bH.jpg?p=1#038;p=1.jpg', 119, '8.1/10', 'Thriller, Mystery, Action', 'Taron Egerton, Jason Bateman, Sofia Carson', 'Jaume Collet-Serra')\n",
            "(66, 'Spellbound', 2024, 'https://www.digitaltrends.com/wp-content/uploads/2024/11/xFSIygDiX70Esp9dheCgGX0Nj77.jpg?p=1#038;p=1.jpg', 111, '7.6/10', 'Animation, Fantasy, Family, Adventure, Comedy', 'Rachel Zegler, Miguel Bernardeau, Giovanna Bush', 'Vicky Jenson')\n",
            "(70, 'The Lost City', 2022, 'https://www.digitaltrends.com/wp-content/uploads/2022/08/neMZH82Stu91d3iqvLdNQfqPPyl.jpg?p=1#038;p=1.jpg', 112, '6.3/10', 'Action, Adventure, Comedy', 'Sandra Bullock, Channing Tatum, Daniel Radcliffe', 'Aaron Nee, Adam Nee')\n",
            "(72, 'Kung Fu Panda 4', 2024, 'https://www.digitaltrends.com/wp-content/uploads/2024/06/kDp1vUBnMpe8ak4rjgl3cLELqjU.jpg?p=1#038;p=1.jpg', 94, '6.8/10', 'Animation, Family, Fantasy, Action', 'Jack Black, Awkwafina, Viola Davis', 'Mike Mitchell')\n",
            "(75, 'Bad Boys: Ride or Die', 2024, 'https://www.digitaltrends.com/wp-content/uploads/2024/10/oGythE98MYleE6mZlGs5oBGkux1.jpg?p=1#038;p=1.jpg', 115, '5.7/10', 'Action, Crime, Thriller, Comedy', 'Will Smith, Martin Lawrence, Vanessa Hudgens', 'Adil El Arbi, Bilall Fallah')\n",
            "(77, 'The Garfield Movie', 2024, 'https://www.digitaltrends.com/wp-content/uploads/2024/09/p6AbOJvMQhBmffd0PIv0u8ghWeY.jpg?p=1#038;p=1.jpg', 101, '5.1/10', 'Animation, Comedy, Family, Adventure, Action', 'Chris Pratt, Samuel L. Jackson, Hannah Waddingham', 'Mark Dindal')\n",
            "(80, 'The Union', 2024, 'https://www.digitaltrends.com/wp-content/uploads/2024/08/d9CTnTHip1RbVi2OQbA2LJJQAGI.jpg?p=1#038;p=1.jpg', 109, '7.0/10', 'Action, Comedy', 'Mark Wahlberg, Halle Berry, J.K. Simmons', 'Julian Farino')\n",
            "(81, 'Migration', 2023, 'https://www.digitaltrends.com/wp-content/uploads/2024/04/ldfCF9RhR40mppkzmftxapaHeTo.jpg?p=1#038;p=1.jpg', 83, '6.1/10', 'Animation, Action, Adventure, Comedy, Family', 'Kumail Nanjiani, Elizabeth Banks, Caspar Jennings', 'Benjamin Renner')\n",
            "(83, 'Ghostbusters: Frozen Empire', 2024, 'https://www.digitaltrends.com/wp-content/uploads/2024/07/e1J2oNzSBdou01sUvriVuoYp0pJ.jpg?p=1#038;p=1.jpg', 115, '6.7/10', 'Fantasy, Adventure, Comedy', 'Mckenna Grace, Paul Rudd, Carrie Coon', 'Gil Kenan')\n",
            "(85, 'Beverly Hills Cop: Axel F', 2024, 'https://www.digitaltrends.com/wp-content/uploads/2024/07/zszRKfzjM5jltiq8rk6rasKVpUv.jpg?p=1#038;p=1.jpg', 118, '7.9/10', 'Action, Comedy, Crime', 'Eddie Murphy, Joseph Gordon-Levitt, Taylour Paige', 'Mark Molloy')\n",
            "(86, 'Hit Man', 2024, 'https://www.digitaltrends.com/wp-content/uploads/2024/06/1126gjlBf4hTm9Sgf0ox3LGVEBt.jpg?p=1#038;p=1.jpg', 115, '6.2/10', 'Comedy, Romance, Crime', 'Glen Powell, Adria Arjona, Austin Amelio', 'Richard Linklater')\n",
            "(88, 'Anyone But You', 2023, 'https://www.digitaltrends.com/wp-content/uploads/2024/04/5qHoazZiaLe7oFBok7XlUhg96f2.jpg?p=1#038;p=1.jpg', 104, '5.8/10', 'Romance, Comedy', 'Sydney Sweeney, Glen Powell, Mia Artemis', 'Will Gluck')\n",
            "(89, 'Baby Driver', 2017, 'https://www.digitaltrends.com/wp-content/uploads/2022/06/rmnQ9jKW72bHu8uKlMjPIb2VLMI.jpg?p=1#038;p=1.jpg', 113, '5.8/10', 'Action, Crime', 'Ansel Elgort, Kevin Spacey, Lily James', 'Edgar Wright')\n",
            "(90, 'The Wages of Fear', 2024, 'https://www.digitaltrends.com/wp-content/uploads/2024/03/jFK2ZLQUzo9pea0jfMCHDfvWsx7.jpg?p=1#038;p=1.jpg', 104, '6.4/10', 'Action, Thriller', 'Franck Gastambide, Alban Lenoir, Ana Girardot', 'Julien Leclercq')\n",
            "(94, 'Orion and the Dark', 2024, 'https://www.digitaltrends.com/wp-content/uploads/2024/02/uHiXFLMlnl5jBjtfOliapN16yBD.jpg?p=1#038;p=1.jpg', 91, '7.4/10', 'Family, Comedy, Animation, Fantasy', 'Jacob Tremblay, Paul Walter Hauser, Angela Bassett', 'Sean Charmatz')\n",
            "(95, 'Dumb Money', 2023, 'https://www.digitaltrends.com/wp-content/uploads/2024/01/bqs4TeKFbfkcbQbuGAuKYu82tnp.jpg?p=1#038;p=1.jpg', 104, '8.7/10', 'Comedy, Drama, History', 'Paul Dano, Shailene Woodley, America Ferrera', 'Craig Gillespie')\n",
            "(96, 'The Equalizer 3', 2023, 'https://www.digitaltrends.com/wp-content/uploads/2024/01/b0Ej6fnXAP8fK75hlyi2jKqdhHz.jpg?p=1#038;p=1.jpg', 109, '6.4/10', 'Action, Thriller, Crime', 'Denzel Washington, Dakota Fanning, Eugenio Mastrandrea', 'Antoine Fuqua')\n",
            "(100, 'No Hard Feelings', 2023, 'https://www.digitaltrends.com/wp-content/uploads/2023/10/gD72DhJ7NbfxvtxGiAzLaa0xaoj.jpg?p=1#038;p=1.jpg', 104, None, 'Comedy, Romance', 'Jennifer Lawrence, Andrew Barth Feldman, Laura Benanti', 'Gene Stupnitsky')\n"
          ]
        }
      ]
    },
    {
      "cell_type": "markdown",
      "source": [
        "Add as much queries as you want to derive insights from your database.\n",
        "Remember you will share these insights through your presentation."
      ],
      "metadata": {
        "id": "Jva7qYHtZzak"
      }
    },
    {
      "cell_type": "code",
      "source": [
        "#Test your Zaka\n",
        "conn = sqlite3.connect('movies.db')\n",
        "cursor = conn.cursor()\n",
        "\n",
        "# Query to check if Jason Statham is among the stars in the first 50 movies\n",
        "cursor.execute('''\n",
        "    SELECT * FROM movies\n",
        "    WHERE stars LIKE '%Jason Statham%'\n",
        "    LIMIT 50\n",
        "''')\n",
        "\n",
        "rows = cursor.fetchall()\n",
        "\n",
        "# Display the results\n",
        "if rows:\n",
        "    for row in rows:\n",
        "        print(row)\n",
        "else:\n",
        "    print(\"Jason Statham is not listed in the first 50 movies.\")\n",
        "\n",
        "conn.close()\n"
      ],
      "metadata": {
        "id": "ZUWoYU3Gd29H",
        "colab": {
          "base_uri": "https://localhost:8080/"
        },
        "outputId": "60bd7f8e-31f5-494e-8e4a-2f1ac08f4a65"
      },
      "execution_count": null,
      "outputs": [
        {
          "output_type": "stream",
          "name": "stdout",
          "text": [
            "Jason Statham is not listed in the first 50 movies.\n"
          ]
        }
      ]
    },
    {
      "cell_type": "code",
      "source": [
        "conn = sqlite3.connect('movies.db')\n",
        "cursor = conn.cursor()\n",
        "\n",
        "# Query to check if Margot Robbie is among the stars\n",
        "cursor.execute('''\n",
        "    SELECT * FROM movies\n",
        "    WHERE stars LIKE '%Margot Robbie%'\n",
        "''')\n",
        "\n",
        "rows = cursor.fetchall()\n",
        "\n",
        "# Display the results\n",
        "if rows:\n",
        "    for row in rows:\n",
        "        print(row)\n",
        "else:\n",
        "    print(\"Margot Robbie is not listed in any movie.\")\n",
        "\n",
        "conn.close()\n"
      ],
      "metadata": {
        "colab": {
          "base_uri": "https://localhost:8080/"
        },
        "id": "aUJcdfvU7cCM",
        "outputId": "11832415-513a-4b63-b731-8178e31b87dc"
      },
      "execution_count": null,
      "outputs": [
        {
          "output_type": "stream",
          "name": "stdout",
          "text": [
            "(10, 'Barbie', 2023, 'https://www.digitaltrends.com/wp-content/uploads/2023/12/iuFNMS8U5cb6xfzi51Dbkovj7vM.jpg?p=1#038;p=1.jpg', 114, '5.6/10', 'Comedy, Adventure', 'Margot Robbie, Ryan Gosling, America Ferrera', 'Greta Gerwig')\n",
            "(60, 'Barbie', 2023, 'https://www.digitaltrends.com/wp-content/uploads/2023/12/iuFNMS8U5cb6xfzi51Dbkovj7vM.jpg?p=1#038;p=1.jpg', 114, '5.6/10', 'Comedy, Adventure', 'Margot Robbie, Ryan Gosling, America Ferrera', 'Greta Gerwig')\n"
          ]
        }
      ]
    },
    {
      "cell_type": "code",
      "source": [
        "conn = sqlite3.connect('movies.db')\n",
        "cursor = conn.cursor()\n",
        "\n",
        "# Query to find all Scream movies and sort by IMDb rating\n",
        "cursor.execute('''\n",
        "    SELECT * FROM movies\n",
        "    WHERE title LIKE '%Scream%'\n",
        "    ORDER BY imdb_rating DESC\n",
        "''')\n",
        "\n",
        "rows = cursor.fetchall()\n",
        "\n",
        "# Display the results\n",
        "if rows:\n",
        "    print(\"All Scream movies, sorted by IMDb rating:\")\n",
        "    for row in rows:\n",
        "        print(row)\n",
        "else:\n",
        "    print(\"No Scream movies found.\")\n",
        "\n",
        "conn.close()\n"
      ],
      "metadata": {
        "colab": {
          "base_uri": "https://localhost:8080/"
        },
        "id": "C205g6UY8g8n",
        "outputId": "9d7c96f1-caa4-4b7d-df89-c5d478aff3e1"
      },
      "execution_count": null,
      "outputs": [
        {
          "output_type": "stream",
          "name": "stdout",
          "text": [
            "All Scream movies, sorted by IMDb rating:\n",
            "(26, 'Scream', 2022, 'https://www.digitaltrends.com/wp-content/uploads/2024/10/1m3W6cpgwuIyjtg5nSnPx7yFkXW.jpg?p=1#038;p=1.jpg', 114, '7.0/10', 'Horror, Mystery, Thriller', 'Melissa Barrera, Jenna Ortega, Mason Gooding', 'Tyler Gillett, Matt Bettinelli-Olpin')\n",
            "(76, 'Scream', 2022, 'https://www.digitaltrends.com/wp-content/uploads/2024/10/1m3W6cpgwuIyjtg5nSnPx7yFkXW.jpg?p=1#038;p=1.jpg', 114, '7.0/10', 'Horror, Mystery, Thriller', 'Melissa Barrera, Jenna Ortega, Mason Gooding', 'Tyler Gillett, Matt Bettinelli-Olpin')\n",
            "(1, 'Scream VI', 2023, 'https://www.digitaltrends.com/wp-content/uploads/2025/01/wDWwtvkRRlgTiUr6TyLSMX8FCuZ.jpg?p=1#038;p=1.jpg', 123, '6.4/10', 'Horror, Crime, Thriller', 'Melissa Barrera, Jenna Ortega, Jasmin Savoy Brown', 'Tyler Gillett, Matt Bettinelli-Olpin')\n",
            "(51, 'Scream VI', 2023, 'https://www.digitaltrends.com/wp-content/uploads/2025/01/wDWwtvkRRlgTiUr6TyLSMX8FCuZ.jpg?p=1#038;p=1.jpg', 123, '6.4/10', 'Horror, Crime, Thriller', 'Melissa Barrera, Jenna Ortega, Jasmin Savoy Brown', 'Tyler Gillett, Matt Bettinelli-Olpin')\n"
          ]
        }
      ]
    },
    {
      "cell_type": "markdown",
      "source": [
        "**bold text**\n",
        "One of my favourite movies is the equalizer ,lets check if it is part of the best 50 movies"
      ],
      "metadata": {
        "id": "O0vzbGdy8osO"
      }
    },
    {
      "cell_type": "code",
      "source": [
        "import sqlite3\n",
        "\n",
        "try:\n",
        "    # Connect to the database\n",
        "    conn = sqlite3.connect('movies.db')\n",
        "    cursor = conn.cursor()\n",
        "\n",
        "    # Query to find all movies with \"Equalizer\" in the title\n",
        "    cursor.execute('''\n",
        "        SELECT * FROM movies\n",
        "        WHERE title LIKE '%Equalizer%'\n",
        "    ''')\n",
        "\n",
        "    rows = cursor.fetchall()\n",
        "\n",
        "    # Display results\n",
        "    if rows:\n",
        "        print(\"Movies with 'Equalizer' in the title:\")\n",
        "        for row in rows:\n",
        "            print(row)\n",
        "    else:\n",
        "        print(\"No movies with 'Equalizer' found.\")\n",
        "\n",
        "except sqlite3.Error as e:\n",
        "    print(f\"Database error: {e}\")\n",
        "\n",
        "finally:\n",
        "    # Close the database connection\n",
        "    conn.close()\n"
      ],
      "metadata": {
        "colab": {
          "base_uri": "https://localhost:8080/"
        },
        "id": "ti5lxyJy8nTq",
        "outputId": "cfc8c2f6-3588-41be-f431-0c64d4895c81"
      },
      "execution_count": null,
      "outputs": [
        {
          "output_type": "stream",
          "name": "stdout",
          "text": [
            "Movies with 'Equalizer' in the title:\n",
            "(46, 'The Equalizer 3', 2023, 'https://www.digitaltrends.com/wp-content/uploads/2024/01/b0Ej6fnXAP8fK75hlyi2jKqdhHz.jpg?p=1#038;p=1.jpg', 109, '6.4/10', 'Action, Thriller, Crime', 'Denzel Washington, Dakota Fanning, Eugenio Mastrandrea', 'Antoine Fuqua')\n",
            "(96, 'The Equalizer 3', 2023, 'https://www.digitaltrends.com/wp-content/uploads/2024/01/b0Ej6fnXAP8fK75hlyi2jKqdhHz.jpg?p=1#038;p=1.jpg', 109, '6.4/10', 'Action, Thriller, Crime', 'Denzel Washington, Dakota Fanning, Eugenio Mastrandrea', 'Antoine Fuqua')\n"
          ]
        }
      ]
    },
    {
      "cell_type": "markdown",
      "source": [
        "Lets check the best 5 action and horror movies based on the ratings"
      ],
      "metadata": {
        "id": "9BdqJcq19j6H"
      }
    },
    {
      "cell_type": "code",
      "source": [
        "import sqlite3\n",
        "\n",
        "try:\n",
        "    # Connect to the database\n",
        "    conn = sqlite3.connect('movies.db')\n",
        "    cursor = conn.cursor()\n",
        "\n",
        "    # Query for best 5 action movies\n",
        "    cursor.execute('''\n",
        "        SELECT * FROM movies\n",
        "        WHERE genre LIKE '%Action%'\n",
        "        ORDER BY imdb_rating DESC\n",
        "        LIMIT 5\n",
        "    ''')\n",
        "    best_action_movies = cursor.fetchall()\n",
        "\n",
        "    # Query for best 5 horror movies\n",
        "    cursor.execute('''\n",
        "        SELECT * FROM movies\n",
        "        WHERE genre LIKE '%Horror%'\n",
        "        ORDER BY imdb_rating DESC\n",
        "        LIMIT 5\n",
        "    ''')\n",
        "    best_horror_movies = cursor.fetchall()\n",
        "\n",
        "    # Display results\n",
        "    print(\"Best 5 Action Movies:\")\n",
        "    if best_action_movies:\n",
        "        for movie in best_action_movies:\n",
        "            print(movie)\n",
        "    else:\n",
        "        print(\"No action movies found.\")\n",
        "\n",
        "    print(\"\\nBest 5 Horror Movies:\")\n",
        "    if best_horror_movies:\n",
        "        for movie in best_horror_movies:\n",
        "            print(movie)\n",
        "    else:\n",
        "        print(\"No horror movies found.\")\n",
        "\n",
        "except sqlite3.Error as e:\n",
        "    print(f\"Database error: {e}\")\n",
        "\n",
        "finally:\n",
        "    # Close the database connection\n",
        "    conn.close()\n"
      ],
      "metadata": {
        "colab": {
          "base_uri": "https://localhost:8080/"
        },
        "id": "YuBjcd1v9Xf5",
        "outputId": "b7729579-0b10-4b12-ca96-ea1cbba6ca83"
      },
      "execution_count": null,
      "outputs": [
        {
          "output_type": "stream",
          "name": "stdout",
          "text": [
            "Best 5 Action Movies:\n",
            "(6, 'In the Heart of the Sea', 2015, 'https://www.digitaltrends.com/wp-content/uploads/2025/01/weVvNPfk6FM9vBg3BXtRtNAmiYM.jpg?p=1#038;p=1.jpg', 122, '8.7/10', 'Thriller, Drama, Adventure, Action, History', 'Chris Hemsworth, Benjamin Walker, Cillian Murphy', 'Ron Howard')\n",
            "(56, 'In the Heart of the Sea', 2015, 'https://www.digitaltrends.com/wp-content/uploads/2025/01/weVvNPfk6FM9vBg3BXtRtNAmiYM.jpg?p=1#038;p=1.jpg', 122, '8.7/10', 'Thriller, Drama, Adventure, Action, History', 'Chris Hemsworth, Benjamin Walker, Cillian Murphy', 'Ron Howard')\n",
            "(13, 'Carry-On', 2024, 'https://www.digitaltrends.com/wp-content/uploads/2024/12/jXLtHkDo1tRBxnxALTPd9AiH2bH.jpg?p=1#038;p=1.jpg', 119, '8.1/10', 'Thriller, Mystery, Action', 'Taron Egerton, Jason Bateman, Sofia Carson', 'Jaume Collet-Serra')\n",
            "(63, 'Carry-On', 2024, 'https://www.digitaltrends.com/wp-content/uploads/2024/12/jXLtHkDo1tRBxnxALTPd9AiH2bH.jpg?p=1#038;p=1.jpg', 119, '8.1/10', 'Thriller, Mystery, Action', 'Taron Egerton, Jason Bateman, Sofia Carson', 'Jaume Collet-Serra')\n",
            "(35, 'Beverly Hills Cop: Axel F', 2024, 'https://www.digitaltrends.com/wp-content/uploads/2024/07/zszRKfzjM5jltiq8rk6rasKVpUv.jpg?p=1#038;p=1.jpg', 118, '7.9/10', 'Action, Comedy, Crime', 'Eddie Murphy, Joseph Gordon-Levitt, Taylour Paige', 'Mark Molloy')\n",
            "\n",
            "Best 5 Horror Movies:\n",
            "(4, 'Hereditary', 2018, 'https://www.digitaltrends.com/wp-content/uploads/2023/04/p9fmuz2Oj3HtEJEqbIwkFGUhVXD.jpg?p=1#038;p=1.jpg', 128, '7.5/10', 'Horror, Mystery, Thriller', 'Toni Collette, Alex Wolff, Gabriel Byrne', 'Ari Aster')\n",
            "(37, 'Godzilla Minus One', 2023, 'https://www.digitaltrends.com/wp-content/uploads/2024/06/hkxxMIGaiCTmrEArK7J56JTKUlB.jpg?p=1#038;p=1.jpg', 125, '7.5/10', 'Science Fiction, Horror, Action', 'Ryunosuke Kamiki, Minami Hamabe, Yuki Yamada', 'Takashi Yamazaki')\n",
            "(54, 'Hereditary', 2018, 'https://www.digitaltrends.com/wp-content/uploads/2023/04/p9fmuz2Oj3HtEJEqbIwkFGUhVXD.jpg?p=1#038;p=1.jpg', 128, '7.5/10', 'Horror, Mystery, Thriller', 'Toni Collette, Alex Wolff, Gabriel Byrne', 'Ari Aster')\n",
            "(87, 'Godzilla Minus One', 2023, 'https://www.digitaltrends.com/wp-content/uploads/2024/06/hkxxMIGaiCTmrEArK7J56JTKUlB.jpg?p=1#038;p=1.jpg', 125, '7.5/10', 'Science Fiction, Horror, Action', 'Ryunosuke Kamiki, Minami Hamabe, Yuki Yamada', 'Takashi Yamazaki')\n",
            "(34, 'Bone Tomahawk', 2015, 'https://www.digitaltrends.com/wp-content/uploads/2024/01/4MmTHpn2Y8emqvBgvOjufImUmKZ.jpg?p=1#038;p=1.jpg', 133, '7.4/10', 'Western, Horror, Drama', 'Kurt Russell, Patrick Wilson, Richard Jenkins', 'S. Craig Zahler')\n"
          ]
        }
      ]
    },
    {
      "cell_type": "markdown",
      "source": [
        "**Lets check for movies that are considered to be \" horror and action  \", or \" horror and comedy\" at the same time**"
      ],
      "metadata": {
        "id": "4Doi8uCK-QIO"
      }
    },
    {
      "cell_type": "code",
      "source": [
        "\n",
        "\n",
        "try:\n",
        "    # Connect to the database\n",
        "    conn = sqlite3.connect('movies.db')\n",
        "    cursor = conn.cursor()\n",
        "\n",
        "    # Query for movies that are both Horror and Action\n",
        "    cursor.execute('''\n",
        "        SELECT * FROM movies\n",
        "        WHERE genre LIKE '%Horror%' AND genre LIKE '%Action%'\n",
        "        ORDER BY imdb_rating DESC\n",
        "    ''')\n",
        "    horror_action_movies = cursor.fetchall()\n",
        "\n",
        "    # Query for movies that are both Horror and Comedy\n",
        "    cursor.execute('''\n",
        "        SELECT * FROM movies\n",
        "        WHERE genre LIKE '%Horror%' AND genre LIKE '%Comedy%'\n",
        "        ORDER BY imdb_rating DESC\n",
        "    ''')\n",
        "    horror_comedy_movies = cursor.fetchall()\n",
        "\n",
        "    # Display results\n",
        "    print(\"Horror and Action Movies:\")\n",
        "    if horror_action_movies:\n",
        "        for movie in horror_action_movies:\n",
        "            print(movie)\n",
        "    else:\n",
        "        print(\"No Horror and Action movies found.\")\n",
        "\n",
        "    print(\"\\nHorror and Comedy Movies:\")\n",
        "    if horror_comedy_movies:\n",
        "        for movie in horror_comedy_movies:\n",
        "            print(movie)\n",
        "    else:\n",
        "        print(\"No Horror and Comedy movies found.\")\n",
        "\n",
        "except sqlite3.Error as e:\n",
        "    print(f\"Database error: {e}\")\n",
        "\n",
        "finally:\n",
        "    # Close the database connection\n",
        "    conn.close()\n"
      ],
      "metadata": {
        "colab": {
          "base_uri": "https://localhost:8080/"
        },
        "id": "uVLGxiHa-O_V",
        "outputId": "6669eb6f-80a9-473f-9fd7-812f80233054"
      },
      "execution_count": null,
      "outputs": [
        {
          "output_type": "stream",
          "name": "stdout",
          "text": [
            "Horror and Action Movies:\n",
            "(37, 'Godzilla Minus One', 2023, 'https://www.digitaltrends.com/wp-content/uploads/2024/06/hkxxMIGaiCTmrEArK7J56JTKUlB.jpg?p=1#038;p=1.jpg', 125, '7.5/10', 'Science Fiction, Horror, Action', 'Ryunosuke Kamiki, Minami Hamabe, Yuki Yamada', 'Takashi Yamazaki')\n",
            "(87, 'Godzilla Minus One', 2023, 'https://www.digitaltrends.com/wp-content/uploads/2024/06/hkxxMIGaiCTmrEArK7J56JTKUlB.jpg?p=1#038;p=1.jpg', 125, '7.5/10', 'Science Fiction, Horror, Action', 'Ryunosuke Kamiki, Minami Hamabe, Yuki Yamada', 'Takashi Yamazaki')\n",
            "\n",
            "Horror and Comedy Movies:\n",
            "No Horror and Comedy movies found.\n"
          ]
        }
      ]
    },
    {
      "cell_type": "markdown",
      "source": [
        "bold text Lets check if Vin Deisel participated among one of the best 50 movies\n"
      ],
      "metadata": {
        "id": "o05g93umL2Cw"
      }
    },
    {
      "cell_type": "code",
      "source": [
        "import sqlite3\n",
        "\n",
        "# Connect to the database\n",
        "conn = sqlite3.connect('movies.db')\n",
        "cursor = conn.cursor()\n",
        "\n",
        "# Query to find top 50 movies by IMDb rating and check if Vin Diesel is among the stars\n",
        "cursor.execute('''\n",
        "    SELECT title, imdb_rating, stars\n",
        "    FROM movies\n",
        "    WHERE stars LIKE '%Vin Diesel%'\n",
        "    ORDER BY imdb_rating DESC\n",
        "    LIMIT 50\n",
        "''')\n",
        "\n",
        "# Fetch the results\n",
        "movies = cursor.fetchall()\n",
        "\n",
        "# Display the movies that have Vin Diesel and their IMDb rating\n",
        "if movies:\n",
        "    print(\"Movies with Vin Diesel in the top 50 based on IMDb rating:\")\n",
        "    for movie in movies:\n",
        "        title = movie[0]\n",
        "        imdb_rating = movie[1]\n",
        "        stars = movie[2]\n",
        "        print(f\"Title: {title}, IMDb Rating: {imdb_rating}, Stars: {stars}\")\n",
        "else:\n",
        "    print(\"No movies with Vin Diesel in the top 50 were found.\")\n",
        "\n",
        "# Close the connection\n",
        "conn.close()\n"
      ],
      "metadata": {
        "colab": {
          "base_uri": "https://localhost:8080/"
        },
        "id": "jSyio8RJLx_s",
        "outputId": "b040d064-1842-4a68-e6c3-400c6ce5d6e2"
      },
      "execution_count": null,
      "outputs": [
        {
          "output_type": "stream",
          "name": "stdout",
          "text": [
            "Movies with Vin Diesel in the top 50 based on IMDb rating:\n",
            "Title: Fast Five, IMDb Rating: 7.0/10, Stars: Vin Diesel, Paul Walker, Dwayne Johnson\n",
            "Title: Fast Five, IMDb Rating: 7.0/10, Stars: Vin Diesel, Paul Walker, Dwayne Johnson\n"
          ]
        }
      ]
    },
    {
      "cell_type": "markdown",
      "source": [
        "Once you're done analyzing the database, prepare your presentation.\n",
        "\n",
        "Good luck!"
      ],
      "metadata": {
        "id": "fkwWhdUxd3W6"
      }
    }
  ]
}